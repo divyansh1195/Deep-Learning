{
  "nbformat": 4,
  "nbformat_minor": 0,
  "metadata": {
    "kernelspec": {
      "name": "python3",
      "display_name": "Python 3",
      "language": "python"
    },
    "language_info": {
      "name": "python",
      "version": "3.7.9",
      "mimetype": "text/x-python",
      "codemirror_mode": {
        "name": "ipython",
        "version": 3
      },
      "pygments_lexer": "ipython3",
      "nbconvert_exporter": "python",
      "file_extension": ".py"
    },
    "colab": {
      "name": "chest-x-ray-images-normal-pneumonia-vgg.ipynb",
      "provenance": []
    }
  },
  "cells": [
    {
      "cell_type": "markdown",
      "metadata": {
        "id": "74_v4ciJw606"
      },
      "source": [
        "## Transfer Learning VGG16"
      ]
    },
    {
      "cell_type": "markdown",
      "metadata": {
        "id": "cqc1_MITw61J"
      },
      "source": [
        "## Kaggle: Chest X-Ray Images (Pneumonia) - to classify checst images belonging to 2 classes Normal or Pneumonia "
      ]
    },
    {
      "cell_type": "markdown",
      "metadata": {
        "id": "BfqekPJoxpwy"
      },
      "source": [
        "#### Dataset Link: https://www.kaggle.com/paultimothymooney/chest-xray-pneumonia"
      ]
    },
    {
      "cell_type": "markdown",
      "metadata": {
        "id": "oybOCtTdw61J"
      },
      "source": [
        "#### importing the libraries"
      ]
    },
    {
      "cell_type": "code",
      "metadata": {
        "trusted": true,
        "id": "BzN6UXRqw61K"
      },
      "source": [
        "# import the libraries\n",
        "import numpy as np\n",
        "import matplotlib.pyplot as plt\n",
        "from glob import glob\n",
        "\n",
        "from tensorflow.keras.layers import Input, Lambda, Dense, Flatten\n",
        "from tensorflow.keras.models import Model\n",
        "\n",
        "#from tensorflow.keras.applications.inception_v3 import InceptionV3\n",
        "#from tensorflow.keras.applications.resnet152V2 import ResNet152V2\n",
        "\n",
        "from keras.applications.vgg16 import VGG16\n",
        "from keras.applications.vgg16 import preprocess_input\n",
        "from keras.preprocessing import image\n",
        "from tensorflow.keras.applications.inception_v3 import preprocess_input\n",
        "from tensorflow.keras.preprocessing.image import ImageDataGenerator,load_img\n",
        "from tensorflow.keras.models import Sequential"
      ],
      "execution_count": null,
      "outputs": []
    },
    {
      "cell_type": "code",
      "metadata": {
        "trusted": true,
        "id": "XbMLjbSqw61K"
      },
      "source": [
        "IMAGE_SIZE = [224, 224]#resize the images\n",
        "\n",
        "#importing kaggle dataset\n",
        "train_path = '../input/chest-xray-pneumonia/chest_xray/train'\n",
        "valid_path = '../input/chest-xray-pneumonia/chest_xray/test'"
      ],
      "execution_count": null,
      "outputs": []
    },
    {
      "cell_type": "code",
      "metadata": {
        "trusted": true,
        "id": "KF4LeLdtw61L",
        "outputId": "a78f72f0-1c02-4f03-cb55-279cab67bfae"
      },
      "source": [
        "folders = glob('../input/chest-xray-pneumonia/chest_xray/train/*')\n",
        "folders#glob helps to find the fodlers present within a directory"
      ],
      "execution_count": null,
      "outputs": [
        {
          "output_type": "execute_result",
          "data": {
            "text/plain": [
              "['../input/chest-xray-pneumonia/chest_xray/train/PNEUMONIA',\n",
              " '../input/chest-xray-pneumonia/chest_xray/train/NORMAL']"
            ]
          },
          "metadata": {
            "tags": []
          },
          "execution_count": 3
        }
      ]
    },
    {
      "cell_type": "markdown",
      "metadata": {
        "id": "dg2ZDXbuw61M"
      },
      "source": [
        "#### Load the model"
      ]
    },
    {
      "cell_type": "code",
      "metadata": {
        "trusted": true,
        "id": "GXos8mP6w61M",
        "outputId": "9c5c7f16-546e-4410-953a-0e734401b6f1"
      },
      "source": [
        "vgg = VGG16(input_shape=IMAGE_SIZE + [3], weights='imagenet', include_top=False)\n",
        "\n",
        "# don't train existing weights\n",
        "for layer in vgg.layers:\n",
        "    layer.trainable = False"
      ],
      "execution_count": null,
      "outputs": [
        {
          "output_type": "stream",
          "text": [
            "Downloading data from https://storage.googleapis.com/tensorflow/keras-applications/vgg16/vgg16_weights_tf_dim_ordering_tf_kernels_notop.h5\n",
            "58892288/58889256 [==============================] - 0s 0us/step\n"
          ],
          "name": "stdout"
        }
      ]
    },
    {
      "cell_type": "code",
      "metadata": {
        "trusted": true,
        "id": "wa9IAa7Hw61M",
        "outputId": "e8be9943-5991-48a3-ef12-dd4c2d6b6e91"
      },
      "source": [
        "x = Flatten()(vgg.output)\n",
        "prediction = Dense(len(folders), activation='softmax')(x)\n",
        "model = Model(inputs=vgg.input, outputs=prediction)\n",
        "model.summary()"
      ],
      "execution_count": null,
      "outputs": [
        {
          "output_type": "stream",
          "text": [
            "Model: \"model\"\n",
            "_________________________________________________________________\n",
            "Layer (type)                 Output Shape              Param #   \n",
            "=================================================================\n",
            "input_1 (InputLayer)         [(None, 224, 224, 3)]     0         \n",
            "_________________________________________________________________\n",
            "block1_conv1 (Conv2D)        (None, 224, 224, 64)      1792      \n",
            "_________________________________________________________________\n",
            "block1_conv2 (Conv2D)        (None, 224, 224, 64)      36928     \n",
            "_________________________________________________________________\n",
            "block1_pool (MaxPooling2D)   (None, 112, 112, 64)      0         \n",
            "_________________________________________________________________\n",
            "block2_conv1 (Conv2D)        (None, 112, 112, 128)     73856     \n",
            "_________________________________________________________________\n",
            "block2_conv2 (Conv2D)        (None, 112, 112, 128)     147584    \n",
            "_________________________________________________________________\n",
            "block2_pool (MaxPooling2D)   (None, 56, 56, 128)       0         \n",
            "_________________________________________________________________\n",
            "block3_conv1 (Conv2D)        (None, 56, 56, 256)       295168    \n",
            "_________________________________________________________________\n",
            "block3_conv2 (Conv2D)        (None, 56, 56, 256)       590080    \n",
            "_________________________________________________________________\n",
            "block3_conv3 (Conv2D)        (None, 56, 56, 256)       590080    \n",
            "_________________________________________________________________\n",
            "block3_pool (MaxPooling2D)   (None, 28, 28, 256)       0         \n",
            "_________________________________________________________________\n",
            "block4_conv1 (Conv2D)        (None, 28, 28, 512)       1180160   \n",
            "_________________________________________________________________\n",
            "block4_conv2 (Conv2D)        (None, 28, 28, 512)       2359808   \n",
            "_________________________________________________________________\n",
            "block4_conv3 (Conv2D)        (None, 28, 28, 512)       2359808   \n",
            "_________________________________________________________________\n",
            "block4_pool (MaxPooling2D)   (None, 14, 14, 512)       0         \n",
            "_________________________________________________________________\n",
            "block5_conv1 (Conv2D)        (None, 14, 14, 512)       2359808   \n",
            "_________________________________________________________________\n",
            "block5_conv2 (Conv2D)        (None, 14, 14, 512)       2359808   \n",
            "_________________________________________________________________\n",
            "block5_conv3 (Conv2D)        (None, 14, 14, 512)       2359808   \n",
            "_________________________________________________________________\n",
            "block5_pool (MaxPooling2D)   (None, 7, 7, 512)         0         \n",
            "_________________________________________________________________\n",
            "flatten (Flatten)            (None, 25088)             0         \n",
            "_________________________________________________________________\n",
            "dense (Dense)                (None, 2)                 50178     \n",
            "=================================================================\n",
            "Total params: 14,764,866\n",
            "Trainable params: 50,178\n",
            "Non-trainable params: 14,714,688\n",
            "_________________________________________________________________\n"
          ],
          "name": "stdout"
        }
      ]
    },
    {
      "cell_type": "code",
      "metadata": {
        "trusted": true,
        "id": "CMed6AmYw61N",
        "outputId": "930cb9ae-328e-4c4d-c1ad-45d9bd29196f"
      },
      "source": [
        "#model compilation: what cost function and optimizer to use\n",
        "model.compile(\n",
        "  loss='categorical_crossentropy',\n",
        "  optimizer='adam',\n",
        "  metrics=['accuracy']\n",
        ")\n",
        "\n",
        "#Image Data Generator to import the images from the dataset(train and test datasets)\n",
        "train_datagen = ImageDataGenerator(rescale = 1./255,\n",
        "                                   shear_range = 0.2,\n",
        "                                   zoom_range = 0.2,\n",
        "                                   horizontal_flip = True)\n",
        "training_set = train_datagen.flow_from_directory('../input/chest-xray-pneumonia/chest_xray/train',\n",
        "                                                 target_size = (224, 224),\n",
        "                                                 batch_size = 32,\n",
        "                                                 class_mode = 'categorical')\n",
        "\n",
        "test_datagen = ImageDataGenerator(rescale = 1./255)\n",
        "test_set = test_datagen.flow_from_directory('../input/chest-xray-pneumonia/chest_xray/test',\n",
        "                                            target_size = (224, 224),\n",
        "                                            batch_size = 32,\n",
        "                                            class_mode = 'categorical')"
      ],
      "execution_count": null,
      "outputs": [
        {
          "output_type": "stream",
          "text": [
            "Found 5216 images belonging to 2 classes.\n",
            "Found 624 images belonging to 2 classes.\n"
          ],
          "name": "stdout"
        }
      ]
    },
    {
      "cell_type": "code",
      "metadata": {
        "trusted": true,
        "id": "O7bzy4Asw61O",
        "outputId": "c15728ad-da09-4795-c705-7e225bce012c"
      },
      "source": [
        "#run the model\n",
        "vgg16 = model.fit_generator(\n",
        "  training_set,\n",
        "  validation_data=test_set,\n",
        "  epochs=5,\n",
        "  steps_per_epoch=len(training_set),\n",
        "  validation_steps=len(test_set)\n",
        ")"
      ],
      "execution_count": null,
      "outputs": [
        {
          "output_type": "stream",
          "text": [
            "/opt/conda/lib/python3.7/site-packages/tensorflow/python/keras/engine/training.py:1844: UserWarning: `Model.fit_generator` is deprecated and will be removed in a future version. Please use `Model.fit`, which supports generators.\n",
            "  warnings.warn('`Model.fit_generator` is deprecated and '\n"
          ],
          "name": "stderr"
        },
        {
          "output_type": "stream",
          "text": [
            "Epoch 1/5\n",
            "163/163 [==============================] - 144s 860ms/step - loss: 0.4336 - accuracy: 0.8549 - val_loss: 0.2877 - val_accuracy: 0.9006\n",
            "Epoch 2/5\n",
            "163/163 [==============================] - 105s 644ms/step - loss: 0.1108 - accuracy: 0.9583 - val_loss: 0.2703 - val_accuracy: 0.9038\n",
            "Epoch 3/5\n",
            "163/163 [==============================] - 105s 642ms/step - loss: 0.1168 - accuracy: 0.9577 - val_loss: 0.2876 - val_accuracy: 0.9071\n",
            "Epoch 4/5\n",
            "163/163 [==============================] - 104s 639ms/step - loss: 0.0711 - accuracy: 0.9739 - val_loss: 0.6413 - val_accuracy: 0.8397\n",
            "Epoch 5/5\n",
            "163/163 [==============================] - 103s 634ms/step - loss: 0.0954 - accuracy: 0.9642 - val_loss: 0.3610 - val_accuracy: 0.9071\n"
          ],
          "name": "stdout"
        }
      ]
    },
    {
      "cell_type": "code",
      "metadata": {
        "trusted": true,
        "id": "duJY_0HIw61O",
        "outputId": "1842a847-e87e-4167-d9c3-7ab48dfaa77d"
      },
      "source": [
        "# plot the loss\n",
        "plt.plot(vgg16.history['loss'], label='train loss')\n",
        "plt.plot(vgg16.history['val_loss'], label='val loss')\n",
        "plt.legend()\n",
        "plt.show()\n",
        "plt.savefig('LossVal_loss')\n",
        "\n",
        "# plot the accuracy\n",
        "plt.plot(vgg16.history['accuracy'], label='train accuracy')\n",
        "plt.plot(vgg16.history['val_accuracy'], label='val accuracy')\n",
        "plt.legend()\n",
        "plt.show()\n",
        "plt.savefig('AccVal_acc')"
      ],
      "execution_count": null,
      "outputs": [
        {
          "output_type": "display_data",
          "data": {
            "text/plain": [
              "<Figure size 432x288 with 1 Axes>"
            ],
            "image/png": "[encoded data removed]"
          },
          "metadata": {
            "tags": [],
            "needs_background": "light"
          }
        },
        {
          "output_type": "display_data",
          "data": {
            "text/plain": [
              "<Figure size 432x288 with 1 Axes>"
            ],
            "image/png": "[encoded data removed]"
          },
          "metadata": {
            "tags": [],
            "needs_background": "light"
          }
        },
        {
          "output_type": "display_data",
          "data": {
            "text/plain": [
              "<Figure size 432x288 with 0 Axes>"
            ]
          },
          "metadata": {
            "tags": []
          }
        }
      ]
    },
    {
      "cell_type": "code",
      "metadata": {
        "trusted": true,
        "id": "r_PiFyThw61O"
      },
      "source": [
        "# save the model as a h5 file\n",
        "from tensorflow.keras.models import load_model\n",
        "model.save('chestxray_vgg16.h5')\n",
        "MODEL_PATH ='chestxray_vgg16.h5'\n",
        "# Load your trained model\n",
        "model = load_model(MODEL_PATH)"
      ],
      "execution_count": null,
      "outputs": []
    },
    {
      "cell_type": "markdown",
      "metadata": {
        "id": "PfRLlnEFw61P"
      },
      "source": [
        "#### Validate our model"
      ]
    },
    {
      "cell_type": "code",
      "metadata": {
        "trusted": true,
        "id": "X1NkwLeLw61P",
        "outputId": "73647cfc-e8b3-4d50-b2f4-30636947a743"
      },
      "source": [
        "print(training_set.class_indices)"
      ],
      "execution_count": null,
      "outputs": [
        {
          "output_type": "stream",
          "text": [
            "{'NORMAL': 0, 'PNEUMONIA': 1}\n"
          ],
          "name": "stdout"
        }
      ]
    },
    {
      "cell_type": "code",
      "metadata": {
        "trusted": true,
        "id": "dNa4GzCtw61P",
        "outputId": "d2dd907b-7205-4e8a-a02e-e10dc7164bfd"
      },
      "source": [
        "test_image = image.load_img('../input/chest-xray-pneumonia/chest_xray/val/NORMAL/NORMAL2-IM-1431-0001.jpeg',\n",
        "                            target_size = (224, 224))\n",
        "test_image = image.img_to_array(test_image)\n",
        "test_image = np.expand_dims(test_image, axis = 0)\n",
        "test_image=preprocess_input(test_image)\n",
        "result = model.predict(test_image)\n",
        "print(result)\n",
        "if result[0][1]>0.5:\n",
        "    print(\"Pneumonia\")\n",
        "else:\n",
        "    print(\"Normal\")"
      ],
      "execution_count": null,
      "outputs": [
        {
          "output_type": "stream",
          "text": [
            "[[0.9481543  0.05184577]]\n",
            "Normal\n"
          ],
          "name": "stdout"
        }
      ]
    },
    {
      "cell_type": "code",
      "metadata": {
        "trusted": true,
        "id": "RwSQnZbvw61Q",
        "outputId": "9a633ae7-be1b-496d-a893-c8d9ec5c176c"
      },
      "source": [
        "test_image = image.load_img('../input/chest-xray-pneumonia/chest_xray/val/PNEUMONIA/person1950_bacteria_4881.jpeg',\n",
        "                            target_size = (224, 224))\n",
        "test_image = image.img_to_array(test_image)\n",
        "test_image = np.expand_dims(test_image, axis = 0)\n",
        "test_image=preprocess_input(test_image)\n",
        "result = model.predict(test_image)\n",
        "print(result)\n",
        "if result[0][1]>0.5:\n",
        "    print(\"Pneumonia\")\n",
        "else:\n",
        "    print(\"Normal\")"
      ],
      "execution_count": null,
      "outputs": [
        {
          "output_type": "stream",
          "text": [
            "[[0.03357628 0.9664237 ]]\n",
            "Pneumonia\n"
          ],
          "name": "stdout"
        }
      ]
    },
    {
      "cell_type": "code",
      "metadata": {
        "trusted": true,
        "id": "Sbk5Oga0w61Q",
        "outputId": "a22aff74-276e-4667-f1e9-a38d38efebbd"
      },
      "source": [
        "test_image = image.load_img('../input/chest-xray-pneumonia/chest_xray/val/NORMAL/NORMAL2-IM-1442-0001.jpeg',\n",
        "                            target_size = (224, 224))\n",
        "test_image = image.img_to_array(test_image)\n",
        "test_image = np.expand_dims(test_image, axis = 0)\n",
        "test_image=preprocess_input(test_image)\n",
        "result = model.predict(test_image)\n",
        "print(result)\n",
        "if result[0][1]>0.5:\n",
        "    print(\"Pneumonia\")\n",
        "else:\n",
        "    print(\"Normal\")"
      ],
      "execution_count": null,
      "outputs": [
        {
          "output_type": "stream",
          "text": [
            "[[0.9986879  0.00131204]]\n",
            "Normal\n"
          ],
          "name": "stdout"
        }
      ]
    }
  ]
}