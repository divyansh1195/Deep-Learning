{
  "nbformat": 4,
  "nbformat_minor": 0,
  "metadata": {
    "kernelspec": {
      "name": "python3",
      "display_name": "Python 3",
      "language": "python"
    },
    "language_info": {
      "name": "python",
      "version": "3.7.6",
      "mimetype": "text/x-python",
      "codemirror_mode": {
        "name": "ipython",
        "version": 3
      },
      "pygments_lexer": "ipython3",
      "nbconvert_exporter": "python",
      "file_extension": ".py"
    },
    "colab": {
      "name": "cats_vs_dogs.ipynb",
      "provenance": []
    }
  },
  "cells": [
    {
      "cell_type": "markdown",
      "metadata": {
        "id": "hOKL6P0w_U28"
      },
      "source": [
        "# **CATS vs DOGS CLASSIFICATION (KAGGLE DATASET)**"
      ]
    },
    {
      "cell_type": "markdown",
      "metadata": {
        "id": "HD4fbh0dgaUd"
      },
      "source": [
        "## In this notebook, I have made an attempt to develop a CNN model from scratch to classify whether images contain either a dog or a cat . The dataset for this notebook was taken from Kaggle."
      ]
    },
    {
      "cell_type": "markdown",
      "metadata": {
        "id": "oLt9oiPMgaUg"
      },
      "source": [
        "Dataset Link:https://www.kaggle.com/tongpython/cat-and-dog \n",
        "\n",
        "Prediction Testing Link:https://www.kaggle.com/max22112019/testing-cat-or-dog"
      ]
    },
    {
      "cell_type": "markdown",
      "metadata": {
        "id": "4C0wjgwgq3AC"
      },
      "source": [
        "## Importing the Libraries"
      ]
    },
    {
      "cell_type": "code",
      "metadata": {
        "id": "t88dxzlzq_Lr",
        "trusted": true
      },
      "source": [
        "import tensorflow as tf\n",
        "import pandas as pd \n",
        "from keras.utils import to_categorical\n",
        "import random\n",
        "import numpy as np\n",
        "import os\n",
        "import matplotlib.pyplot as plt\n",
        "\n",
        "from sklearn.model_selection import train_test_split\n",
        "from tensorflow.keras.layers import Input, Lambda, Dense, Flatten, Conv2D, MaxPooling2D, Dropout, Activation, BatchNormalization\n",
        "from tensorflow.keras.models import Model\n",
        "from tensorflow.keras.applications.inception_v3 import InceptionV3\n",
        "from keras.applications.vgg16 import VGG16\n",
        "from tensorflow.keras.applications.inception_v3 import preprocess_input\n",
        "from tensorflow.keras.preprocessing import image\n",
        "from tensorflow.keras.preprocessing.image import ImageDataGenerator,load_img, array_to_img, img_to_array\n",
        "from tensorflow.keras.models import Sequential\n",
        "from glob import glob"
      ],
      "execution_count": null,
      "outputs": []
    },
    {
      "cell_type": "markdown",
      "metadata": {
        "id": "HjujAgE1rYfE"
      },
      "source": [
        "## Importing the Dataset and Data Preprocessing"
      ]
    },
    {
      "cell_type": "code",
      "metadata": {
        "trusted": true,
        "id": "NSUTcgr_gaU3"
      },
      "source": [
        "# Define Constants\n",
        "FAST_RUN = False\n",
        "IMAGE_WIDTH=224\n",
        "IMAGE_HEIGHT=224\n",
        "IMAGE_SIZE=(IMAGE_WIDTH, IMAGE_HEIGHT)\n",
        "IMAGE_CHANNELS=3"
      ],
      "execution_count": null,
      "outputs": []
    },
    {
      "cell_type": "markdown",
      "metadata": {
        "id": "r2m9FBB_gaVG"
      },
      "source": [
        "#### Training Generator"
      ]
    },
    {
      "cell_type": "code",
      "metadata": {
        "trusted": true,
        "id": "HpjYQWCGgaVK",
        "outputId": "22e2b953-c407-419c-8552-1403a12c3a33"
      },
      "source": [
        "train_datagen = ImageDataGenerator(rescale=1./255,\n",
        "    shear_range=0.2,\n",
        "    zoom_range=0.2,\n",
        "    horizontal_flip=True,\n",
        "    width_shift_range=0.1,\n",
        "    height_shift_range=0.1, rotation_range=15)\n",
        "\n",
        "training_set = train_datagen.flow_from_directory('../input/cat-and-dog/training_set/training_set',\n",
        "                                                 target_size = (IMAGE_WIDTH, IMAGE_HEIGHT),\n",
        "                                                 batch_size = 32,\n",
        "                                                 class_mode = 'binary')"
      ],
      "execution_count": null,
      "outputs": [
        {
          "output_type": "stream",
          "text": [
            "Found 8005 images belonging to 2 classes.\n"
          ],
          "name": "stdout"
        }
      ]
    },
    {
      "cell_type": "markdown",
      "metadata": {
        "id": "PCZmeCNXgaVY"
      },
      "source": [
        "Testing Generator"
      ]
    },
    {
      "cell_type": "code",
      "metadata": {
        "trusted": true,
        "id": "kHSEUhVGgaVb",
        "outputId": "4420cd22-4690-4c33-babd-f8b614c2500a"
      },
      "source": [
        "test_datagen = ImageDataGenerator(rescale = 1./255)\n",
        "test_set = test_datagen.flow_from_directory('../input/cat-and-dog/test_set/test_set',\n",
        "                                            target_size = (IMAGE_WIDTH, IMAGE_HEIGHT),\n",
        "                                            batch_size = 32,\n",
        "                                            class_mode = 'binary',shuffle=False)"
      ],
      "execution_count": null,
      "outputs": [
        {
          "output_type": "stream",
          "text": [
            "Found 2023 images belonging to 2 classes.\n"
          ],
          "name": "stdout"
        }
      ]
    },
    {
      "cell_type": "markdown",
      "metadata": {
        "id": "gBMuFZue_eDI"
      },
      "source": [
        "## Building the CNN Model"
      ]
    },
    {
      "cell_type": "code",
      "metadata": {
        "id": "exYPEq7N_CHj",
        "trusted": true,
        "outputId": "5709c205-8c73-4aef-b4b1-6e48eac4fc49"
      },
      "source": [
        "model = tf.keras.models.Sequential()\n",
        "\n",
        "#Convolutional Layer 1\n",
        "model.add(Conv2D(filters=32, kernel_size=(3, 3), activation='relu', input_shape=(IMAGE_WIDTH, \n",
        "                                                                                 IMAGE_HEIGHT, IMAGE_CHANNELS)))\n",
        "model.add(BatchNormalization())\n",
        "model.add(MaxPooling2D(pool_size=(2, 2), strides=2))\n",
        "model.add(Dropout(0.3))\n",
        "\n",
        "#Adding a 2nd Convolutional Layer\n",
        "model.add(Conv2D(filters=64, kernel_size=(3, 3), activation='relu'))\n",
        "model.add(BatchNormalization())\n",
        "model.add(MaxPooling2D(pool_size=(2, 2), strides=2))\n",
        "model.add(Dropout(0.3))\n",
        "\n",
        "#Adding a 3rd Convolutional Layer\n",
        "model.add(Conv2D(filters=128, kernel_size=(3, 3), activation='relu'))\n",
        "model.add(BatchNormalization())\n",
        "model.add(MaxPooling2D(pool_size=(2, 2), strides=2))\n",
        "model.add(Dropout(0.3))\n",
        "\n",
        "model.add(Flatten())\n",
        "model.add(Dense(512, activation='relu'))\n",
        "model.add(BatchNormalization())\n",
        "model.add(Dropout(0.4))\n",
        "model.add(Dense(1, activation='sigmoid'))\n",
        "model.compile(optimizer = 'adam', loss = 'binary_crossentropy', metrics = ['accuracy'])\n",
        "model.summary()"
      ],
      "execution_count": null,
      "outputs": [
        {
          "output_type": "stream",
          "text": [
            "Model: \"sequential\"\n",
            "_________________________________________________________________\n",
            "Layer (type)                 Output Shape              Param #   \n",
            "=================================================================\n",
            "conv2d (Conv2D)              (None, 222, 222, 32)      896       \n",
            "_________________________________________________________________\n",
            "batch_normalization (BatchNo (None, 222, 222, 32)      128       \n",
            "_________________________________________________________________\n",
            "max_pooling2d (MaxPooling2D) (None, 111, 111, 32)      0         \n",
            "_________________________________________________________________\n",
            "dropout (Dropout)            (None, 111, 111, 32)      0         \n",
            "_________________________________________________________________\n",
            "conv2d_1 (Conv2D)            (None, 109, 109, 64)      18496     \n",
            "_________________________________________________________________\n",
            "batch_normalization_1 (Batch (None, 109, 109, 64)      256       \n",
            "_________________________________________________________________\n",
            "max_pooling2d_1 (MaxPooling2 (None, 54, 54, 64)        0         \n",
            "_________________________________________________________________\n",
            "dropout_1 (Dropout)          (None, 54, 54, 64)        0         \n",
            "_________________________________________________________________\n",
            "conv2d_2 (Conv2D)            (None, 52, 52, 128)       73856     \n",
            "_________________________________________________________________\n",
            "batch_normalization_2 (Batch (None, 52, 52, 128)       512       \n",
            "_________________________________________________________________\n",
            "max_pooling2d_2 (MaxPooling2 (None, 26, 26, 128)       0         \n",
            "_________________________________________________________________\n",
            "dropout_2 (Dropout)          (None, 26, 26, 128)       0         \n",
            "_________________________________________________________________\n",
            "flatten (Flatten)            (None, 86528)             0         \n",
            "_________________________________________________________________\n",
            "dense (Dense)                (None, 512)               44302848  \n",
            "_________________________________________________________________\n",
            "batch_normalization_3 (Batch (None, 512)               2048      \n",
            "_________________________________________________________________\n",
            "dropout_3 (Dropout)          (None, 512)               0         \n",
            "_________________________________________________________________\n",
            "dense_1 (Dense)              (None, 1)                 513       \n",
            "=================================================================\n",
            "Total params: 44,399,553\n",
            "Trainable params: 44,398,081\n",
            "Non-trainable params: 1,472\n",
            "_________________________________________________________________\n"
          ],
          "name": "stdout"
        }
      ]
    },
    {
      "cell_type": "markdown",
      "metadata": {
        "id": "V4oHFeIVMfc6"
      },
      "source": [
        "## Fit the Model"
      ]
    },
    {
      "cell_type": "code",
      "metadata": {
        "trusted": true,
        "id": "uuigvgcxgaV2"
      },
      "source": [
        "#Callbacks\n",
        "from keras.callbacks import EarlyStopping, ReduceLROnPlateau\n",
        "\n",
        "#To prevent over fitting we will stop the learning after 10 epochs and val_loss value not decreased\n",
        "earlystop = EarlyStopping(patience=10)\n",
        "\n",
        "#Learning Rate Reduction\n",
        "#We will reduce the learning rate when then accuracy not increase for 2 steps\n",
        "learning_rate_reduction = ReduceLROnPlateau(monitor='val_acc', \n",
        "                                            patience=2, \n",
        "                                            verbose=1, \n",
        "                                            factor=0.5, \n",
        "                                            min_lr=0.00001)\n",
        "callbacks = [earlystop, learning_rate_reduction]"
      ],
      "execution_count": null,
      "outputs": []
    },
    {
      "cell_type": "code",
      "metadata": {
        "id": "txmDIhkzMdg-",
        "trusted": true,
        "outputId": "a691ddb8-6b08-4aca-ea2b-8f26f57721b6"
      },
      "source": [
        "epochs=3 if FAST_RUN else 25\n",
        "cnn = model.fit(\n",
        "    x = training_set, validation_data = test_set, \n",
        "    epochs=epochs,\n",
        "    callbacks=callbacks)"
      ],
      "execution_count": null,
      "outputs": [
        {
          "output_type": "stream",
          "text": [
            "Epoch 1/25\n",
            "251/251 [==============================] - 171s 681ms/step - loss: 0.8016 - accuracy: 0.5988 - val_loss: 1.3153 - val_accuracy: 0.4998\n",
            "Epoch 2/25\n",
            "251/251 [==============================] - 133s 529ms/step - loss: 0.6334 - accuracy: 0.6645 - val_loss: 0.7813 - val_accuracy: 0.5986\n",
            "Epoch 3/25\n",
            "251/251 [==============================] - 131s 522ms/step - loss: 0.5870 - accuracy: 0.6948 - val_loss: 0.5977 - val_accuracy: 0.6673\n",
            "Epoch 4/25\n",
            "251/251 [==============================] - 132s 527ms/step - loss: 0.5574 - accuracy: 0.7153 - val_loss: 0.6764 - val_accuracy: 0.6584\n",
            "Epoch 5/25\n",
            "251/251 [==============================] - 130s 517ms/step - loss: 0.5477 - accuracy: 0.7177 - val_loss: 0.5241 - val_accuracy: 0.7296\n",
            "Epoch 6/25\n",
            "251/251 [==============================] - 130s 518ms/step - loss: 0.5221 - accuracy: 0.7390 - val_loss: 0.5766 - val_accuracy: 0.7138\n",
            "Epoch 7/25\n",
            "251/251 [==============================] - 131s 520ms/step - loss: 0.4957 - accuracy: 0.7558 - val_loss: 0.7600 - val_accuracy: 0.6742\n",
            "Epoch 8/25\n",
            "251/251 [==============================] - 132s 527ms/step - loss: 0.4788 - accuracy: 0.7660 - val_loss: 0.4611 - val_accuracy: 0.7820\n",
            "Epoch 9/25\n",
            "251/251 [==============================] - 132s 526ms/step - loss: 0.4702 - accuracy: 0.7689 - val_loss: 0.5516 - val_accuracy: 0.7385\n",
            "Epoch 10/25\n",
            "251/251 [==============================] - 130s 516ms/step - loss: 0.4519 - accuracy: 0.7909 - val_loss: 0.5373 - val_accuracy: 0.7350\n",
            "Epoch 11/25\n",
            "251/251 [==============================] - 131s 521ms/step - loss: 0.4435 - accuracy: 0.7943 - val_loss: 0.4365 - val_accuracy: 0.7978\n",
            "Epoch 12/25\n",
            "251/251 [==============================] - 130s 516ms/step - loss: 0.4215 - accuracy: 0.8019 - val_loss: 2.6529 - val_accuracy: 0.5472\n",
            "Epoch 13/25\n",
            "251/251 [==============================] - 129s 515ms/step - loss: 0.4132 - accuracy: 0.8089 - val_loss: 0.5690 - val_accuracy: 0.7153\n",
            "Epoch 14/25\n",
            "251/251 [==============================] - 126s 504ms/step - loss: 0.3928 - accuracy: 0.8230 - val_loss: 0.4295 - val_accuracy: 0.8300\n",
            "Epoch 15/25\n",
            "251/251 [==============================] - 131s 521ms/step - loss: 0.3941 - accuracy: 0.8217 - val_loss: 0.4041 - val_accuracy: 0.8255\n",
            "Epoch 16/25\n",
            "251/251 [==============================] - 132s 527ms/step - loss: 0.3828 - accuracy: 0.8234 - val_loss: 0.6581 - val_accuracy: 0.7370\n",
            "Epoch 17/25\n",
            "251/251 [==============================] - 131s 522ms/step - loss: 0.3988 - accuracy: 0.8182 - val_loss: 0.6984 - val_accuracy: 0.7430\n",
            "Epoch 18/25\n",
            "251/251 [==============================] - 132s 526ms/step - loss: 0.3845 - accuracy: 0.8272 - val_loss: 0.3723 - val_accuracy: 0.8398\n",
            "Epoch 19/25\n",
            "251/251 [==============================] - 132s 525ms/step - loss: 0.3624 - accuracy: 0.8362 - val_loss: 0.3991 - val_accuracy: 0.8319\n",
            "Epoch 20/25\n",
            "251/251 [==============================] - 131s 523ms/step - loss: 0.3479 - accuracy: 0.8438 - val_loss: 0.4982 - val_accuracy: 0.7790\n",
            "Epoch 21/25\n",
            "251/251 [==============================] - 136s 543ms/step - loss: 0.3587 - accuracy: 0.8440 - val_loss: 0.3282 - val_accuracy: 0.8670\n",
            "Epoch 22/25\n",
            "251/251 [==============================] - 131s 521ms/step - loss: 0.3343 - accuracy: 0.8543 - val_loss: 0.4984 - val_accuracy: 0.8141\n",
            "Epoch 23/25\n",
            "251/251 [==============================] - 129s 515ms/step - loss: 0.3627 - accuracy: 0.8385 - val_loss: 0.3312 - val_accuracy: 0.8512\n",
            "Epoch 24/25\n",
            "251/251 [==============================] - 133s 531ms/step - loss: 0.3456 - accuracy: 0.8487 - val_loss: 0.3873 - val_accuracy: 0.8344\n",
            "Epoch 25/25\n",
            "251/251 [==============================] - 135s 539ms/step - loss: 0.3326 - accuracy: 0.8495 - val_loss: 0.3616 - val_accuracy: 0.8487\n"
          ],
          "name": "stdout"
        }
      ]
    },
    {
      "cell_type": "markdown",
      "metadata": {
        "id": "XQhBRki3NQrT"
      },
      "source": [
        "## Visualize the model training by plotting Loss Function and Accuracy"
      ]
    },
    {
      "cell_type": "code",
      "metadata": {
        "id": "TZXcwotANY3d",
        "trusted": true,
        "outputId": "56a3dba8-3aef-488e-8950-c956bae6f6b0"
      },
      "source": [
        "# Plot the Loss Function\n",
        "plt.plot(cnn.history['loss'], label='train loss')\n",
        "plt.plot(cnn.history['val_loss'], label='val loss')\n",
        "plt.legend()\n",
        "plt.show()\n",
        "\n",
        "# Plot the Accuracy\n",
        "plt.plot(cnn.history['accuracy'], label='train acc')\n",
        "plt.plot(cnn.history['val_accuracy'], label='val acc')\n",
        "plt.legend()\n",
        "plt.show()"
      ],
      "execution_count": null,
      "outputs": [
        {
          "output_type": "display_data",
          "data": {
            "text/plain": [
              "<Figure size 432x288 with 1 Axes>"
            ],
            "image/png": "[encoded data removed]"
          },
          "metadata": {
            "tags": [],
            "needs_background": "light"
          }
        },
        {
          "output_type": "display_data",
          "data": {
            "text/plain": [
              "<Figure size 432x288 with 1 Axes>"
            ],
            "image/png": "[encoded data removed]"
          },
          "metadata": {
            "tags": [],
            "needs_background": "light"
          }
        }
      ]
    },
    {
      "cell_type": "markdown",
      "metadata": {
        "id": "bTOeHtDoQuif"
      },
      "source": [
        "## Model Prediction on images not found in train and test catalog"
      ]
    },
    {
      "cell_type": "code",
      "metadata": {
        "trusted": true,
        "id": "dp94RCspgaWm",
        "outputId": "1d3675e6-319a-4088-df27-4217cc0f71d2"
      },
      "source": [
        "import numpy as np\n",
        "from keras.preprocessing import image\n",
        "test_image = image.load_img('../input/testing-cat-or-dog/cat or dog 2.jpg', \n",
        "                            target_size = (IMAGE_WIDTH, IMAGE_HEIGHT))\n",
        "test_image = image.img_to_array(test_image)\n",
        "test_image = np.expand_dims(test_image, axis = 0)\n",
        "result = model.predict(test_image)\n",
        "training_set.class_indices\n",
        "if result[0][0] == 1:\n",
        "  prediction = 'dog'\n",
        "else:\n",
        "  prediction = 'cat'\n",
        "\n",
        "print(prediction)"
      ],
      "execution_count": null,
      "outputs": [
        {
          "output_type": "stream",
          "text": [
            "cat\n"
          ],
          "name": "stdout"
        }
      ]
    },
    {
      "cell_type": "markdown",
      "metadata": {
        "id": "uJ5aUHXkgaXF"
      },
      "source": [
        "**'../input/testing-cat-or-dog/cat or dog 1.jpg' is a Dog's image**\n",
        "\n",
        "**'../input/testing-cat-or-dog/cat or dog 2.jpg' is a Cat's image**\n"
      ]
    },
    {
      "cell_type": "markdown",
      "metadata": {
        "id": "d7eHlip3gaXJ"
      },
      "source": [
        "**This CNN model which I have developed is providing me with accurate results on Prediction.**"
      ]
    }
  ]
}