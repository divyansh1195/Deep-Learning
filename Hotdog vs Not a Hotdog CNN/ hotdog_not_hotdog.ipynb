{
  "nbformat": 4,
  "nbformat_minor": 0,
  "metadata": {
    "kernelspec": {
      "language": "python",
      "display_name": "Python 3",
      "name": "python3"
    },
    "language_info": {
      "name": "python",
      "version": "3.7.6",
      "mimetype": "text/x-python",
      "codemirror_mode": {
        "name": "ipython",
        "version": 3
      },
      "pygments_lexer": "ipython3",
      "nbconvert_exporter": "python",
      "file_extension": ".py"
    },
    "colab": {
      "name": "hotdog-not-hotdog.ipynb",
      "provenance": []
    }
  },
  "cells": [
    {
      "cell_type": "markdown",
      "metadata": {
        "id": "3fkc6aTUjaOC",
        "colab_type": "text"
      },
      "source": [
        "# **Hotdog vs Not a Hotdog CLASSIFICATION (KAGGLE DATASET)**"
      ]
    },
    {
      "cell_type": "markdown",
      "metadata": {
        "id": "cDNAvbVgjaOE",
        "colab_type": "text"
      },
      "source": [
        "In this notebook, I have made an attempt to develop a CNN model from scratch to classify whether images contain either a hotdog or not a hotdog. The dataset for this notebook was taken from Kaggle."
      ]
    },
    {
      "cell_type": "markdown",
      "metadata": {
        "id": "4yt9Sd53jaOG",
        "colab_type": "text"
      },
      "source": [
        "\n",
        "Dataset Link:https://www.kaggle.com/tanliheng/hot-dog\n",
        "\n",
        "Prediction Testing Link:https://www.kaggle.com/babychickoo/check-for-model-validation-hotdog-or-not"
      ]
    },
    {
      "cell_type": "markdown",
      "metadata": {
        "id": "SqyxPrFxjaOH",
        "colab_type": "text"
      },
      "source": [
        "## Importing the Libraries"
      ]
    },
    {
      "cell_type": "code",
      "metadata": {
        "trusted": true,
        "id": "ukKgnT9VjaOI",
        "colab_type": "code",
        "colab": {}
      },
      "source": [
        "import tensorflow as tf\n",
        "import pandas as pd \n",
        "from keras.utils import to_categorical\n",
        "import random\n",
        "import numpy as np\n",
        "import os\n",
        "import matplotlib.pyplot as plt\n",
        "\n",
        "from sklearn.model_selection import train_test_split\n",
        "from tensorflow.keras.layers import Input, Lambda, Dense, Flatten, Conv2D, MaxPooling2D, Dropout, Activation, BatchNormalization\n",
        "from tensorflow.keras.models import Model\n",
        "from tensorflow.keras.applications.inception_v3 import InceptionV3\n",
        "from keras.applications.vgg16 import VGG16\n",
        "from tensorflow.keras.applications.inception_v3 import preprocess_input\n",
        "from tensorflow.keras.preprocessing import image\n",
        "from tensorflow.keras.preprocessing.image import ImageDataGenerator,load_img, array_to_img, img_to_array\n",
        "from tensorflow.keras.models import Sequential\n",
        "from glob import glob"
      ],
      "execution_count": null,
      "outputs": []
    },
    {
      "cell_type": "markdown",
      "metadata": {
        "id": "QzQNE6NVjaOP",
        "colab_type": "text"
      },
      "source": [
        "## Data Preprocessing"
      ]
    },
    {
      "cell_type": "code",
      "metadata": {
        "trusted": true,
        "id": "G3_jK4MEjaOQ",
        "colab_type": "code",
        "colab": {}
      },
      "source": [
        "# Define Constants\n",
        "FAST_RUN = False\n",
        "IMAGE_WIDTH=224\n",
        "IMAGE_HEIGHT=224\n",
        "IMAGE_SIZE=(IMAGE_WIDTH, IMAGE_HEIGHT)\n",
        "IMAGE_CHANNELS=3"
      ],
      "execution_count": null,
      "outputs": []
    },
    {
      "cell_type": "markdown",
      "metadata": {
        "id": "PgY2kDSTjaOV",
        "colab_type": "text"
      },
      "source": [
        "Training Generator"
      ]
    },
    {
      "cell_type": "code",
      "metadata": {
        "trusted": true,
        "id": "Ryy7JPUajaOV",
        "colab_type": "code",
        "colab": {},
        "outputId": "4851e235-5c0f-4409-a720-0026c12578bf"
      },
      "source": [
        "train_datagen = ImageDataGenerator(rescale=1./255,\n",
        "    shear_range=0.2,\n",
        "    zoom_range=0.2,\n",
        "    horizontal_flip=True,\n",
        "    width_shift_range=0.1,\n",
        "    height_shift_range=0.1, rotation_range=15)\n",
        "\n",
        "training_set = train_datagen.flow_from_directory('../input/hot-dog/hotdog/train',\n",
        "                                                 target_size = (IMAGE_WIDTH, IMAGE_HEIGHT),\n",
        "                                                 batch_size = 32,\n",
        "                                                 class_mode = 'binary')"
      ],
      "execution_count": null,
      "outputs": [
        {
          "output_type": "stream",
          "text": [
            "Found 2000 images belonging to 2 classes.\n"
          ],
          "name": "stdout"
        }
      ]
    },
    {
      "cell_type": "markdown",
      "metadata": {
        "id": "xqNnADGMjaOZ",
        "colab_type": "text"
      },
      "source": [
        "Testing Generator"
      ]
    },
    {
      "cell_type": "code",
      "metadata": {
        "trusted": true,
        "id": "cbmBneGQjaOa",
        "colab_type": "code",
        "colab": {},
        "outputId": "7b63bb98-2771-49c7-cc0f-3c9d942d2508"
      },
      "source": [
        "test_datagen = ImageDataGenerator(rescale = 1./255)\n",
        "test_set = test_datagen.flow_from_directory('../input/hot-dog/hotdog/test',\n",
        "                                            target_size = (IMAGE_WIDTH, IMAGE_HEIGHT),\n",
        "                                            batch_size = 32,\n",
        "                                            class_mode = 'binary',shuffle=False)"
      ],
      "execution_count": null,
      "outputs": [
        {
          "output_type": "stream",
          "text": [
            "Found 800 images belonging to 2 classes.\n"
          ],
          "name": "stdout"
        }
      ]
    },
    {
      "cell_type": "markdown",
      "metadata": {
        "id": "ltykSJ51jaOc",
        "colab_type": "text"
      },
      "source": [
        "## Building the CNN Model"
      ]
    },
    {
      "cell_type": "code",
      "metadata": {
        "trusted": true,
        "id": "sFNss3WajaOd",
        "colab_type": "code",
        "colab": {},
        "outputId": "c5011313-8bee-4e95-a043-bb2cdebd135e"
      },
      "source": [
        "model = tf.keras.models.Sequential()\n",
        "\n",
        "#Convolutional Layer 1\n",
        "model.add(Conv2D(filters=32, kernel_size=(3, 3), activation='relu', input_shape=(IMAGE_WIDTH, \n",
        "                                                                                 IMAGE_HEIGHT, IMAGE_CHANNELS)))\n",
        "model.add(BatchNormalization())\n",
        "model.add(MaxPooling2D(pool_size=(2, 2), strides=2))\n",
        "model.add(Dropout(0.3))\n",
        "\n",
        "#Adding a 2nd Convolutional Layer\n",
        "model.add(Conv2D(filters=64, kernel_size=(3, 3), activation='relu'))\n",
        "model.add(BatchNormalization())\n",
        "model.add(MaxPooling2D(pool_size=(2, 2), strides=2))\n",
        "model.add(Dropout(0.3))\n",
        "\n",
        "#Adding a 3rd Convolutional Layer\n",
        "model.add(Conv2D(filters=128, kernel_size=(3, 3), activation='relu'))\n",
        "model.add(BatchNormalization())\n",
        "model.add(MaxPooling2D(pool_size=(2, 2), strides=2))\n",
        "model.add(Dropout(0.3))\n",
        "\n",
        "model.add(Flatten())\n",
        "model.add(Dense(512, activation='relu'))\n",
        "model.add(BatchNormalization())\n",
        "model.add(Dropout(0.4))\n",
        "model.add(Dense(1, activation='sigmoid'))\n",
        "model.compile(optimizer = 'adam', loss = 'binary_crossentropy', metrics = ['accuracy'])\n",
        "model.summary()"
      ],
      "execution_count": null,
      "outputs": [
        {
          "output_type": "stream",
          "text": [
            "Model: \"sequential\"\n",
            "_________________________________________________________________\n",
            "Layer (type)                 Output Shape              Param #   \n",
            "=================================================================\n",
            "conv2d (Conv2D)              (None, 222, 222, 32)      896       \n",
            "_________________________________________________________________\n",
            "batch_normalization (BatchNo (None, 222, 222, 32)      128       \n",
            "_________________________________________________________________\n",
            "max_pooling2d (MaxPooling2D) (None, 111, 111, 32)      0         \n",
            "_________________________________________________________________\n",
            "dropout (Dropout)            (None, 111, 111, 32)      0         \n",
            "_________________________________________________________________\n",
            "conv2d_1 (Conv2D)            (None, 109, 109, 64)      18496     \n",
            "_________________________________________________________________\n",
            "batch_normalization_1 (Batch (None, 109, 109, 64)      256       \n",
            "_________________________________________________________________\n",
            "max_pooling2d_1 (MaxPooling2 (None, 54, 54, 64)        0         \n",
            "_________________________________________________________________\n",
            "dropout_1 (Dropout)          (None, 54, 54, 64)        0         \n",
            "_________________________________________________________________\n",
            "conv2d_2 (Conv2D)            (None, 52, 52, 128)       73856     \n",
            "_________________________________________________________________\n",
            "batch_normalization_2 (Batch (None, 52, 52, 128)       512       \n",
            "_________________________________________________________________\n",
            "max_pooling2d_2 (MaxPooling2 (None, 26, 26, 128)       0         \n",
            "_________________________________________________________________\n",
            "dropout_2 (Dropout)          (None, 26, 26, 128)       0         \n",
            "_________________________________________________________________\n",
            "flatten (Flatten)            (None, 86528)             0         \n",
            "_________________________________________________________________\n",
            "dense (Dense)                (None, 512)               44302848  \n",
            "_________________________________________________________________\n",
            "batch_normalization_3 (Batch (None, 512)               2048      \n",
            "_________________________________________________________________\n",
            "dropout_3 (Dropout)          (None, 512)               0         \n",
            "_________________________________________________________________\n",
            "dense_1 (Dense)              (None, 1)                 513       \n",
            "=================================================================\n",
            "Total params: 44,399,553\n",
            "Trainable params: 44,398,081\n",
            "Non-trainable params: 1,472\n",
            "_________________________________________________________________\n"
          ],
          "name": "stdout"
        }
      ]
    },
    {
      "cell_type": "markdown",
      "metadata": {
        "id": "WADxsaBXjaOg",
        "colab_type": "text"
      },
      "source": [
        "## Fit the Model"
      ]
    },
    {
      "cell_type": "code",
      "metadata": {
        "trusted": true,
        "id": "L1DtPz7VjaOg",
        "colab_type": "code",
        "colab": {}
      },
      "source": [
        "#Callbacks\n",
        "from keras.callbacks import EarlyStopping, ReduceLROnPlateau\n",
        "\n",
        "#To prevent over fitting we will stop the learning after 10 epochs if val_loss value not decreased\n",
        "earlystop = EarlyStopping(patience=10)\n",
        "\n",
        "#Learning Rate Reduction\n",
        "#We will reduce the learning rate when then accuracy not increase for 2 steps\n",
        "learning_rate_reduction = ReduceLROnPlateau(monitor='val_acc', \n",
        "                                            patience=2, \n",
        "                                            verbose=1, \n",
        "                                            factor=0.5, \n",
        "                                            min_lr=0.00001)\n",
        "callbacks = [earlystop, learning_rate_reduction]"
      ],
      "execution_count": null,
      "outputs": []
    },
    {
      "cell_type": "code",
      "metadata": {
        "trusted": true,
        "id": "PjRY5Jm7jaOk",
        "colab_type": "code",
        "colab": {},
        "outputId": "0269751a-3c13-47ec-f44d-41be19f891e1"
      },
      "source": [
        "epochs=3 if FAST_RUN else 50\n",
        "cnn = model.fit(\n",
        "    x = training_set, validation_data = test_set, \n",
        "    epochs=epochs,\n",
        "    callbacks=callbacks)"
      ],
      "execution_count": null,
      "outputs": [
        {
          "output_type": "stream",
          "text": [
            "Epoch 1/50\n",
            "63/63 [==============================] - 46s 727ms/step - loss: 0.5844 - accuracy: 0.7910 - val_loss: 10.5821 - val_accuracy: 0.5000\n",
            "Epoch 2/50\n",
            "63/63 [==============================] - 35s 563ms/step - loss: 0.4440 - accuracy: 0.8100 - val_loss: 10.5967 - val_accuracy: 0.5000\n",
            "Epoch 3/50\n",
            "63/63 [==============================] - 35s 561ms/step - loss: 0.4195 - accuracy: 0.8255 - val_loss: 1.3636 - val_accuracy: 0.5000\n",
            "Epoch 4/50\n",
            "63/63 [==============================] - 35s 548ms/step - loss: 0.3721 - accuracy: 0.8445 - val_loss: 0.7924 - val_accuracy: 0.5337\n",
            "Epoch 5/50\n",
            "63/63 [==============================] - 35s 557ms/step - loss: 0.3426 - accuracy: 0.8545 - val_loss: 0.6872 - val_accuracy: 0.6125\n",
            "Epoch 6/50\n",
            "63/63 [==============================] - 34s 547ms/step - loss: 0.3208 - accuracy: 0.8705 - val_loss: 0.5844 - val_accuracy: 0.6750\n",
            "Epoch 7/50\n",
            "63/63 [==============================] - 35s 559ms/step - loss: 0.3209 - accuracy: 0.8725 - val_loss: 0.6873 - val_accuracy: 0.6475\n",
            "Epoch 8/50\n",
            "63/63 [==============================] - 35s 548ms/step - loss: 0.2914 - accuracy: 0.8805 - val_loss: 0.4687 - val_accuracy: 0.7600\n",
            "Epoch 9/50\n",
            "63/63 [==============================] - 34s 542ms/step - loss: 0.3025 - accuracy: 0.8845 - val_loss: 0.5463 - val_accuracy: 0.7337\n",
            "Epoch 10/50\n",
            "63/63 [==============================] - 35s 555ms/step - loss: 0.3048 - accuracy: 0.8785 - val_loss: 0.6380 - val_accuracy: 0.7038\n",
            "Epoch 11/50\n",
            "63/63 [==============================] - 34s 547ms/step - loss: 0.2829 - accuracy: 0.8785 - val_loss: 0.8478 - val_accuracy: 0.6612\n",
            "Epoch 12/50\n",
            "63/63 [==============================] - 34s 546ms/step - loss: 0.2651 - accuracy: 0.8965 - val_loss: 0.6272 - val_accuracy: 0.7088\n",
            "Epoch 13/50\n",
            "63/63 [==============================] - 35s 548ms/step - loss: 0.2769 - accuracy: 0.8860 - val_loss: 0.4431 - val_accuracy: 0.8163\n",
            "Epoch 14/50\n",
            "63/63 [==============================] - 35s 555ms/step - loss: 0.2782 - accuracy: 0.8790 - val_loss: 0.3392 - val_accuracy: 0.8612\n",
            "Epoch 15/50\n",
            "63/63 [==============================] - 35s 558ms/step - loss: 0.2779 - accuracy: 0.8880 - val_loss: 0.3732 - val_accuracy: 0.8375\n",
            "Epoch 16/50\n",
            "63/63 [==============================] - 34s 543ms/step - loss: 0.3146 - accuracy: 0.8675 - val_loss: 0.6335 - val_accuracy: 0.7300\n",
            "Epoch 17/50\n",
            "63/63 [==============================] - 35s 559ms/step - loss: 0.2875 - accuracy: 0.8765 - val_loss: 0.3635 - val_accuracy: 0.8425\n",
            "Epoch 18/50\n",
            "63/63 [==============================] - 34s 546ms/step - loss: 0.2773 - accuracy: 0.8850 - val_loss: 0.3397 - val_accuracy: 0.8650\n",
            "Epoch 19/50\n",
            "63/63 [==============================] - 35s 554ms/step - loss: 0.2740 - accuracy: 0.8855 - val_loss: 0.4378 - val_accuracy: 0.8062\n",
            "Epoch 20/50\n",
            "63/63 [==============================] - 35s 559ms/step - loss: 0.2783 - accuracy: 0.8815 - val_loss: 0.9036 - val_accuracy: 0.7300\n",
            "Epoch 21/50\n",
            "63/63 [==============================] - 33s 526ms/step - loss: 0.2534 - accuracy: 0.8950 - val_loss: 0.4443 - val_accuracy: 0.8087\n",
            "Epoch 22/50\n",
            "63/63 [==============================] - 35s 562ms/step - loss: 0.2554 - accuracy: 0.8940 - val_loss: 0.4239 - val_accuracy: 0.8263\n",
            "Epoch 23/50\n",
            "63/63 [==============================] - 34s 532ms/step - loss: 0.2382 - accuracy: 0.9045 - val_loss: 0.4971 - val_accuracy: 0.8288\n",
            "Epoch 24/50\n",
            "63/63 [==============================] - 34s 538ms/step - loss: 0.2336 - accuracy: 0.9050 - val_loss: 0.4640 - val_accuracy: 0.8325\n"
          ],
          "name": "stdout"
        }
      ]
    },
    {
      "cell_type": "markdown",
      "metadata": {
        "id": "t3NQU9dfjaOm",
        "colab_type": "text"
      },
      "source": [
        "## Visualize the model training by plotting Loss Function and Accuracy"
      ]
    },
    {
      "cell_type": "code",
      "metadata": {
        "trusted": true,
        "id": "754f801UjaOn",
        "colab_type": "code",
        "colab": {},
        "outputId": "49b0e878-c6bb-4033-b9ee-da789138766d"
      },
      "source": [
        "# Plot the Loss Function\n",
        "plt.plot(cnn.history['loss'], label='train loss')\n",
        "plt.plot(cnn.history['val_loss'], label='val loss')\n",
        "plt.legend()\n",
        "plt.show()\n",
        "\n",
        "# Plot the Accuracy\n",
        "plt.plot(cnn.history['accuracy'], label='train acc')\n",
        "plt.plot(cnn.history['val_accuracy'], label='val acc')\n",
        "plt.legend()\n",
        "plt.show()"
      ],
      "execution_count": null,
      "outputs": [
        {
          "output_type": "display_data",
          "data": {
            "text/plain": [
              "<Figure size 432x288 with 1 Axes>"
            ],
            "image/png": "[encoded data removed]"
          },
          "metadata": {
            "tags": [],
            "needs_background": "light"
          }
        },
        {
          "output_type": "display_data",
          "data": {
            "text/plain": [
              "<Figure size 432x288 with 1 Axes>"
            ],
            "image/png": "[encoded data removed]"
          },
          "metadata": {
            "tags": [],
            "needs_background": "light"
          }
        }
      ]
    },
    {
      "cell_type": "markdown",
      "metadata": {
        "id": "zw-O6dItjaOq",
        "colab_type": "text"
      },
      "source": [
        "## Model Prediction on images not found in train and test catalog"
      ]
    },
    {
      "cell_type": "code",
      "metadata": {
        "trusted": true,
        "id": "Cstr54SdjaOq",
        "colab_type": "code",
        "colab": {},
        "outputId": "23420219-01e7-41a5-dd6d-b3cc126ff75e"
      },
      "source": [
        "import numpy as np\n",
        "from keras.preprocessing import image\n",
        "test_image = image.load_img('../input/check-for-model-validation-hotdog-or-not/hot dog or not 2.jpg', \n",
        "                            target_size = (IMAGE_WIDTH, IMAGE_HEIGHT))\n",
        "test_image = image.img_to_array(test_image)\n",
        "test_image = np.expand_dims(test_image, axis = 0)\n",
        "result = model.predict(test_image)\n",
        "training_set.class_indices\n",
        "if result[0][0] == 1:\n",
        "  prediction = 'Not a Hotdog'\n",
        "else:\n",
        "  prediction = ' Hotdog'\n",
        "\n",
        "print(prediction)"
      ],
      "execution_count": null,
      "outputs": [
        {
          "output_type": "stream",
          "text": [
            "Not a Hotdog\n"
          ],
          "name": "stdout"
        }
      ]
    },
    {
      "cell_type": "markdown",
      "metadata": {
        "id": "dE30V3qOjaOt",
        "colab_type": "text"
      },
      "source": [
        "**'../input/check-for-model-validation-hotdog-or-not/hot dog or not 2.jpg' is Not a Hotdog's image**\n",
        "\n",
        "\n",
        "**'../input/check-for-model-validation-hotdog-or-not/hot dog or not 1.jpg' is a Hotdog's image**"
      ]
    },
    {
      "cell_type": "markdown",
      "metadata": {
        "id": "cdSnucnnjaOu",
        "colab_type": "text"
      },
      "source": [
        "## **This CNN model which I have developed is providing me with accurate results on Prediction.**"
      ]
    }
  ]
}