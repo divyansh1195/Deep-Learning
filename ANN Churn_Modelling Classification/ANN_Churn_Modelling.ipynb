{
  "nbformat": 4,
  "nbformat_minor": 0,
  "metadata": {
    "kernelspec": {
      "display_name": "Python 3",
      "language": "python",
      "name": "python3"
    },
    "language_info": {
      "codemirror_mode": {
        "name": "ipython",
        "version": 3
      },
      "file_extension": ".py",
      "mimetype": "text/x-python",
      "name": "python",
      "nbconvert_exporter": "python",
      "pygments_lexer": "ipython3",
      "version": "3.7.9"
    },
    "colab": {
      "name": "ANN Churn_Modelling.ipynb",
      "provenance": [],
      "include_colab_link": true
    },
    "accelerator": "GPU"
  },
  "cells": [
    {
      "cell_type": "markdown",
      "metadata": {
        "id": "view-in-github",
        "colab_type": "text"
      },
      "source": [
        "<a href=\"https://colab.research.google.com/github/divyansh1195/Deep-Learning/blob/master/ANN%20Churn_Modelling%20Classification/ANN_Churn_Modelling.ipynb\" target=\"_parent\"><img src=\"https://colab.research.google.com/assets/colab-badge.svg\" alt=\"Open In Colab\"/></a>"
      ]
    },
    {
      "cell_type": "markdown",
      "metadata": {
        "id": "6eWYzLlYm5aG",
        "colab_type": "text"
      },
      "source": [
        "## ANN Churn Modeling to predict whether a customer would leave bank or not"
      ]
    },
    {
      "cell_type": "code",
      "metadata": {
        "id": "Y_8V_TxHns8c",
        "colab_type": "code",
        "colab": {
          "base_uri": "https://localhost:8080/",
          "height": 357
        },
        "outputId": "6d3dcf28-6f9e-4e72-9b50-2ede0fa8cd15"
      },
      "source": [
        "#GPU SpecSheet\n",
        "!nvidia-smi"
      ],
      "execution_count": 1,
      "outputs": [
        {
          "output_type": "stream",
          "text": [
            "Fri Sep 11 10:55:05 2020       \n",
            "+-----------------------------------------------------------------------------+\n",
            "| NVIDIA-SMI 450.66       Driver Version: 418.67       CUDA Version: 10.1     |\n",
            "|-------------------------------+----------------------+----------------------+\n",
            "| GPU  Name        Persistence-M| Bus-Id        Disp.A | Volatile Uncorr. ECC |\n",
            "| Fan  Temp  Perf  Pwr:Usage/Cap|         Memory-Usage | GPU-Util  Compute M. |\n",
            "|                               |                      |               MIG M. |\n",
            "|===============================+======================+======================|\n",
            "|   0  Tesla K80           Off  | 00000000:00:04.0 Off |                    0 |\n",
            "| N/A   72C    P8    33W / 149W |      0MiB / 11441MiB |      0%      Default |\n",
            "|                               |                      |                 ERR! |\n",
            "+-------------------------------+----------------------+----------------------+\n",
            "                                                                               \n",
            "+-----------------------------------------------------------------------------+\n",
            "| Processes:                                                                  |\n",
            "|  GPU   GI   CI        PID   Type   Process name                  GPU Memory |\n",
            "|        ID   ID                                                   Usage      |\n",
            "|=============================================================================|\n",
            "|  No running processes found                                                 |\n",
            "+-----------------------------------------------------------------------------+\n"
          ],
          "name": "stdout"
        }
      ]
    },
    {
      "cell_type": "markdown",
      "metadata": {
        "id": "Stsb_I4nm5aI",
        "colab_type": "text"
      },
      "source": [
        "## Importing the libraries and the dataset"
      ]
    },
    {
      "cell_type": "code",
      "metadata": {
        "id": "v323Cdcym5aK",
        "colab_type": "code",
        "colab": {}
      },
      "source": [
        "# Importing standard libraries\n",
        "import numpy as np\n",
        "import matplotlib.pyplot as plt\n",
        "import pandas as pd\n",
        "\n",
        "# Importing the Keras libraries and packages\n",
        "import keras\n",
        "from keras.models import Sequential\n",
        "from keras.layers import Dense\n",
        "from keras.layers import LeakyReLU,PReLU,ELU\n",
        "from keras.layers import Dropout"
      ],
      "execution_count": 2,
      "outputs": []
    },
    {
      "cell_type": "code",
      "metadata": {
        "id": "fvHQ7D74m5aS",
        "colab_type": "code",
        "colab": {
          "base_uri": "https://localhost:8080/",
          "height": 204
        },
        "outputId": "f2161a95-7260-47e0-d202-449ea7c60288"
      },
      "source": [
        "# Importing the dataset\n",
        "dataset = pd.read_csv('Churn_Modelling.csv')\n",
        "dataset.head()"
      ],
      "execution_count": 3,
      "outputs": [
        {
          "output_type": "execute_result",
          "data": {
            "text/html": [
              "<div>\n",
              "<style scoped>\n",
              "    .dataframe tbody tr th:only-of-type {\n",
              "        vertical-align: middle;\n",
              "    }\n",
              "\n",
              "    .dataframe tbody tr th {\n",
              "        vertical-align: top;\n",
              "    }\n",
              "\n",
              "    .dataframe thead th {\n",
              "        text-align: right;\n",
              "    }\n",
              "</style>\n",
              "<table border=\"1\" class=\"dataframe\">\n",
              "  <thead>\n",
              "    <tr style=\"text-align: right;\">\n",
              "      <th></th>\n",
              "      <th>RowNumber</th>\n",
              "      <th>CustomerId</th>\n",
              "      <th>Surname</th>\n",
              "      <th>CreditScore</th>\n",
              "      <th>Geography</th>\n",
              "      <th>Gender</th>\n",
              "      <th>Age</th>\n",
              "      <th>Tenure</th>\n",
              "      <th>Balance</th>\n",
              "      <th>NumOfProducts</th>\n",
              "      <th>HasCrCard</th>\n",
              "      <th>IsActiveMember</th>\n",
              "      <th>EstimatedSalary</th>\n",
              "      <th>Exited</th>\n",
              "    </tr>\n",
              "  </thead>\n",
              "  <tbody>\n",
              "    <tr>\n",
              "      <th>0</th>\n",
              "      <td>1</td>\n",
              "      <td>15634602</td>\n",
              "      <td>Hargrave</td>\n",
              "      <td>619</td>\n",
              "      <td>France</td>\n",
              "      <td>Female</td>\n",
              "      <td>42</td>\n",
              "      <td>2</td>\n",
              "      <td>0.00</td>\n",
              "      <td>1</td>\n",
              "      <td>1</td>\n",
              "      <td>1</td>\n",
              "      <td>101348.88</td>\n",
              "      <td>1</td>\n",
              "    </tr>\n",
              "    <tr>\n",
              "      <th>1</th>\n",
              "      <td>2</td>\n",
              "      <td>15647311</td>\n",
              "      <td>Hill</td>\n",
              "      <td>608</td>\n",
              "      <td>Spain</td>\n",
              "      <td>Female</td>\n",
              "      <td>41</td>\n",
              "      <td>1</td>\n",
              "      <td>83807.86</td>\n",
              "      <td>1</td>\n",
              "      <td>0</td>\n",
              "      <td>1</td>\n",
              "      <td>112542.58</td>\n",
              "      <td>0</td>\n",
              "    </tr>\n",
              "    <tr>\n",
              "      <th>2</th>\n",
              "      <td>3</td>\n",
              "      <td>15619304</td>\n",
              "      <td>Onio</td>\n",
              "      <td>502</td>\n",
              "      <td>France</td>\n",
              "      <td>Female</td>\n",
              "      <td>42</td>\n",
              "      <td>8</td>\n",
              "      <td>159660.80</td>\n",
              "      <td>3</td>\n",
              "      <td>1</td>\n",
              "      <td>0</td>\n",
              "      <td>113931.57</td>\n",
              "      <td>1</td>\n",
              "    </tr>\n",
              "    <tr>\n",
              "      <th>3</th>\n",
              "      <td>4</td>\n",
              "      <td>15701354</td>\n",
              "      <td>Boni</td>\n",
              "      <td>699</td>\n",
              "      <td>France</td>\n",
              "      <td>Female</td>\n",
              "      <td>39</td>\n",
              "      <td>1</td>\n",
              "      <td>0.00</td>\n",
              "      <td>2</td>\n",
              "      <td>0</td>\n",
              "      <td>0</td>\n",
              "      <td>93826.63</td>\n",
              "      <td>0</td>\n",
              "    </tr>\n",
              "    <tr>\n",
              "      <th>4</th>\n",
              "      <td>5</td>\n",
              "      <td>15737888</td>\n",
              "      <td>Mitchell</td>\n",
              "      <td>850</td>\n",
              "      <td>Spain</td>\n",
              "      <td>Female</td>\n",
              "      <td>43</td>\n",
              "      <td>2</td>\n",
              "      <td>125510.82</td>\n",
              "      <td>1</td>\n",
              "      <td>1</td>\n",
              "      <td>1</td>\n",
              "      <td>79084.10</td>\n",
              "      <td>0</td>\n",
              "    </tr>\n",
              "  </tbody>\n",
              "</table>\n",
              "</div>"
            ],
            "text/plain": [
              "   RowNumber  CustomerId   Surname  ...  IsActiveMember EstimatedSalary Exited\n",
              "0          1    15634602  Hargrave  ...               1       101348.88      1\n",
              "1          2    15647311      Hill  ...               1       112542.58      0\n",
              "2          3    15619304      Onio  ...               0       113931.57      1\n",
              "3          4    15701354      Boni  ...               0        93826.63      0\n",
              "4          5    15737888  Mitchell  ...               1        79084.10      0\n",
              "\n",
              "[5 rows x 14 columns]"
            ]
          },
          "metadata": {
            "tags": []
          },
          "execution_count": 3
        }
      ]
    },
    {
      "cell_type": "code",
      "metadata": {
        "id": "hUMvM0WVtYzg",
        "colab_type": "code",
        "colab": {
          "base_uri": "https://localhost:8080/",
          "height": 34
        },
        "outputId": "3a768a03-5c8d-429b-f54d-1ae557c0a3aa"
      },
      "source": [
        "exited_count = len(dataset.loc[dataset['Exited'] == 1])\n",
        "stayed_count=len(dataset.loc[dataset['Exited']==0])\n",
        "(exited_count, stayed_count)"
      ],
      "execution_count": 4,
      "outputs": [
        {
          "output_type": "execute_result",
          "data": {
            "text/plain": [
              "(2037, 7963)"
            ]
          },
          "metadata": {
            "tags": []
          },
          "execution_count": 4
        }
      ]
    },
    {
      "cell_type": "code",
      "metadata": {
        "id": "G5Bz9OLbm5ad",
        "colab_type": "code",
        "colab": {}
      },
      "source": [
        "X = dataset.iloc[:, 3:13]\n",
        "y = dataset.iloc[:, 13]"
      ],
      "execution_count": 5,
      "outputs": []
    },
    {
      "cell_type": "code",
      "metadata": {
        "id": "1JW7tOCbm5al",
        "colab_type": "code",
        "colab": {
          "base_uri": "https://localhost:8080/",
          "height": 419
        },
        "outputId": "ed011f11-bae3-4353-d517-71fa064f865e"
      },
      "source": [
        "X"
      ],
      "execution_count": 6,
      "outputs": [
        {
          "output_type": "execute_result",
          "data": {
            "text/html": [
              "<div>\n",
              "<style scoped>\n",
              "    .dataframe tbody tr th:only-of-type {\n",
              "        vertical-align: middle;\n",
              "    }\n",
              "\n",
              "    .dataframe tbody tr th {\n",
              "        vertical-align: top;\n",
              "    }\n",
              "\n",
              "    .dataframe thead th {\n",
              "        text-align: right;\n",
              "    }\n",
              "</style>\n",
              "<table border=\"1\" class=\"dataframe\">\n",
              "  <thead>\n",
              "    <tr style=\"text-align: right;\">\n",
              "      <th></th>\n",
              "      <th>CreditScore</th>\n",
              "      <th>Geography</th>\n",
              "      <th>Gender</th>\n",
              "      <th>Age</th>\n",
              "      <th>Tenure</th>\n",
              "      <th>Balance</th>\n",
              "      <th>NumOfProducts</th>\n",
              "      <th>HasCrCard</th>\n",
              "      <th>IsActiveMember</th>\n",
              "      <th>EstimatedSalary</th>\n",
              "    </tr>\n",
              "  </thead>\n",
              "  <tbody>\n",
              "    <tr>\n",
              "      <th>0</th>\n",
              "      <td>619</td>\n",
              "      <td>France</td>\n",
              "      <td>Female</td>\n",
              "      <td>42</td>\n",
              "      <td>2</td>\n",
              "      <td>0.00</td>\n",
              "      <td>1</td>\n",
              "      <td>1</td>\n",
              "      <td>1</td>\n",
              "      <td>101348.88</td>\n",
              "    </tr>\n",
              "    <tr>\n",
              "      <th>1</th>\n",
              "      <td>608</td>\n",
              "      <td>Spain</td>\n",
              "      <td>Female</td>\n",
              "      <td>41</td>\n",
              "      <td>1</td>\n",
              "      <td>83807.86</td>\n",
              "      <td>1</td>\n",
              "      <td>0</td>\n",
              "      <td>1</td>\n",
              "      <td>112542.58</td>\n",
              "    </tr>\n",
              "    <tr>\n",
              "      <th>2</th>\n",
              "      <td>502</td>\n",
              "      <td>France</td>\n",
              "      <td>Female</td>\n",
              "      <td>42</td>\n",
              "      <td>8</td>\n",
              "      <td>159660.80</td>\n",
              "      <td>3</td>\n",
              "      <td>1</td>\n",
              "      <td>0</td>\n",
              "      <td>113931.57</td>\n",
              "    </tr>\n",
              "    <tr>\n",
              "      <th>3</th>\n",
              "      <td>699</td>\n",
              "      <td>France</td>\n",
              "      <td>Female</td>\n",
              "      <td>39</td>\n",
              "      <td>1</td>\n",
              "      <td>0.00</td>\n",
              "      <td>2</td>\n",
              "      <td>0</td>\n",
              "      <td>0</td>\n",
              "      <td>93826.63</td>\n",
              "    </tr>\n",
              "    <tr>\n",
              "      <th>4</th>\n",
              "      <td>850</td>\n",
              "      <td>Spain</td>\n",
              "      <td>Female</td>\n",
              "      <td>43</td>\n",
              "      <td>2</td>\n",
              "      <td>125510.82</td>\n",
              "      <td>1</td>\n",
              "      <td>1</td>\n",
              "      <td>1</td>\n",
              "      <td>79084.10</td>\n",
              "    </tr>\n",
              "    <tr>\n",
              "      <th>...</th>\n",
              "      <td>...</td>\n",
              "      <td>...</td>\n",
              "      <td>...</td>\n",
              "      <td>...</td>\n",
              "      <td>...</td>\n",
              "      <td>...</td>\n",
              "      <td>...</td>\n",
              "      <td>...</td>\n",
              "      <td>...</td>\n",
              "      <td>...</td>\n",
              "    </tr>\n",
              "    <tr>\n",
              "      <th>9995</th>\n",
              "      <td>771</td>\n",
              "      <td>France</td>\n",
              "      <td>Male</td>\n",
              "      <td>39</td>\n",
              "      <td>5</td>\n",
              "      <td>0.00</td>\n",
              "      <td>2</td>\n",
              "      <td>1</td>\n",
              "      <td>0</td>\n",
              "      <td>96270.64</td>\n",
              "    </tr>\n",
              "    <tr>\n",
              "      <th>9996</th>\n",
              "      <td>516</td>\n",
              "      <td>France</td>\n",
              "      <td>Male</td>\n",
              "      <td>35</td>\n",
              "      <td>10</td>\n",
              "      <td>57369.61</td>\n",
              "      <td>1</td>\n",
              "      <td>1</td>\n",
              "      <td>1</td>\n",
              "      <td>101699.77</td>\n",
              "    </tr>\n",
              "    <tr>\n",
              "      <th>9997</th>\n",
              "      <td>709</td>\n",
              "      <td>France</td>\n",
              "      <td>Female</td>\n",
              "      <td>36</td>\n",
              "      <td>7</td>\n",
              "      <td>0.00</td>\n",
              "      <td>1</td>\n",
              "      <td>0</td>\n",
              "      <td>1</td>\n",
              "      <td>42085.58</td>\n",
              "    </tr>\n",
              "    <tr>\n",
              "      <th>9998</th>\n",
              "      <td>772</td>\n",
              "      <td>Germany</td>\n",
              "      <td>Male</td>\n",
              "      <td>42</td>\n",
              "      <td>3</td>\n",
              "      <td>75075.31</td>\n",
              "      <td>2</td>\n",
              "      <td>1</td>\n",
              "      <td>0</td>\n",
              "      <td>92888.52</td>\n",
              "    </tr>\n",
              "    <tr>\n",
              "      <th>9999</th>\n",
              "      <td>792</td>\n",
              "      <td>France</td>\n",
              "      <td>Female</td>\n",
              "      <td>28</td>\n",
              "      <td>4</td>\n",
              "      <td>130142.79</td>\n",
              "      <td>1</td>\n",
              "      <td>1</td>\n",
              "      <td>0</td>\n",
              "      <td>38190.78</td>\n",
              "    </tr>\n",
              "  </tbody>\n",
              "</table>\n",
              "<p>10000 rows × 10 columns</p>\n",
              "</div>"
            ],
            "text/plain": [
              "      CreditScore Geography  Gender  ...  HasCrCard  IsActiveMember  EstimatedSalary\n",
              "0             619    France  Female  ...          1               1        101348.88\n",
              "1             608     Spain  Female  ...          0               1        112542.58\n",
              "2             502    France  Female  ...          1               0        113931.57\n",
              "3             699    France  Female  ...          0               0         93826.63\n",
              "4             850     Spain  Female  ...          1               1         79084.10\n",
              "...           ...       ...     ...  ...        ...             ...              ...\n",
              "9995          771    France    Male  ...          1               0         96270.64\n",
              "9996          516    France    Male  ...          1               1        101699.77\n",
              "9997          709    France  Female  ...          0               1         42085.58\n",
              "9998          772   Germany    Male  ...          1               0         92888.52\n",
              "9999          792    France  Female  ...          1               0         38190.78\n",
              "\n",
              "[10000 rows x 10 columns]"
            ]
          },
          "metadata": {
            "tags": []
          },
          "execution_count": 6
        }
      ]
    },
    {
      "cell_type": "code",
      "metadata": {
        "id": "x1U0h8cHm5at",
        "colab_type": "code",
        "colab": {
          "base_uri": "https://localhost:8080/",
          "height": 221
        },
        "outputId": "5e0a56f2-28ad-47c4-94d5-103201a4fe33"
      },
      "source": [
        "y"
      ],
      "execution_count": 7,
      "outputs": [
        {
          "output_type": "execute_result",
          "data": {
            "text/plain": [
              "0       1\n",
              "1       0\n",
              "2       1\n",
              "3       0\n",
              "4       0\n",
              "       ..\n",
              "9995    0\n",
              "9996    0\n",
              "9997    1\n",
              "9998    1\n",
              "9999    0\n",
              "Name: Exited, Length: 10000, dtype: int64"
            ]
          },
          "metadata": {
            "tags": []
          },
          "execution_count": 7
        }
      ]
    },
    {
      "cell_type": "markdown",
      "metadata": {
        "id": "cTAO9NmMm5a0",
        "colab_type": "text"
      },
      "source": [
        "#### Encoding Categorical Variables - Geography and Gender"
      ]
    },
    {
      "cell_type": "markdown",
      "metadata": {
        "id": "8YHROUgUm5a1",
        "colab_type": "text"
      },
      "source": [
        "Geography"
      ]
    },
    {
      "cell_type": "code",
      "metadata": {
        "id": "nyuED2Gwm5a2",
        "colab_type": "code",
        "colab": {
          "base_uri": "https://localhost:8080/",
          "height": 34
        },
        "outputId": "c81c1542-6503-40a3-e3a7-ef7ab7e88d60"
      },
      "source": [
        "#first we consider Geography feature \n",
        "X.Geography.unique()"
      ],
      "execution_count": 8,
      "outputs": [
        {
          "output_type": "execute_result",
          "data": {
            "text/plain": [
              "array(['France', 'Spain', 'Germany'], dtype=object)"
            ]
          },
          "metadata": {
            "tags": []
          },
          "execution_count": 8
        }
      ]
    },
    {
      "cell_type": "code",
      "metadata": {
        "id": "5dhgVl_um5a7",
        "colab_type": "code",
        "colab": {}
      },
      "source": [
        "geography_map={\"France\": 1, \"Spain\": 2, \"Germany\": 3}\n",
        "X['Geography']=X['Geography'].map(geography_map)"
      ],
      "execution_count": 9,
      "outputs": []
    },
    {
      "cell_type": "markdown",
      "metadata": {
        "id": "1hirrX5hm5bB",
        "colab_type": "text"
      },
      "source": [
        "Gender"
      ]
    },
    {
      "cell_type": "code",
      "metadata": {
        "id": "S9aC0VnSm5bC",
        "colab_type": "code",
        "colab": {
          "base_uri": "https://localhost:8080/",
          "height": 34
        },
        "outputId": "db454df7-f2ab-4d9d-891d-7410b1d8bad3"
      },
      "source": [
        "#first we consider Geography feature \n",
        "X.Gender.unique()"
      ],
      "execution_count": 10,
      "outputs": [
        {
          "output_type": "execute_result",
          "data": {
            "text/plain": [
              "array(['Female', 'Male'], dtype=object)"
            ]
          },
          "metadata": {
            "tags": []
          },
          "execution_count": 10
        }
      ]
    },
    {
      "cell_type": "code",
      "metadata": {
        "id": "MMYDr90Hm5bG",
        "colab_type": "code",
        "colab": {}
      },
      "source": [
        "gender_map={\"Female\": 1, \"Male\": 2}\n",
        "X['Gender']=X['Gender'].map(gender_map)"
      ],
      "execution_count": 11,
      "outputs": []
    },
    {
      "cell_type": "code",
      "metadata": {
        "id": "1XANB5Z7m5bK",
        "colab_type": "code",
        "colab": {
          "base_uri": "https://localhost:8080/",
          "height": 669
        },
        "outputId": "cd113ebd-1391-4bc4-8637-0f2cab7ff428"
      },
      "source": [
        "X.head(20)"
      ],
      "execution_count": 12,
      "outputs": [
        {
          "output_type": "execute_result",
          "data": {
            "text/html": [
              "<div>\n",
              "<style scoped>\n",
              "    .dataframe tbody tr th:only-of-type {\n",
              "        vertical-align: middle;\n",
              "    }\n",
              "\n",
              "    .dataframe tbody tr th {\n",
              "        vertical-align: top;\n",
              "    }\n",
              "\n",
              "    .dataframe thead th {\n",
              "        text-align: right;\n",
              "    }\n",
              "</style>\n",
              "<table border=\"1\" class=\"dataframe\">\n",
              "  <thead>\n",
              "    <tr style=\"text-align: right;\">\n",
              "      <th></th>\n",
              "      <th>CreditScore</th>\n",
              "      <th>Geography</th>\n",
              "      <th>Gender</th>\n",
              "      <th>Age</th>\n",
              "      <th>Tenure</th>\n",
              "      <th>Balance</th>\n",
              "      <th>NumOfProducts</th>\n",
              "      <th>HasCrCard</th>\n",
              "      <th>IsActiveMember</th>\n",
              "      <th>EstimatedSalary</th>\n",
              "    </tr>\n",
              "  </thead>\n",
              "  <tbody>\n",
              "    <tr>\n",
              "      <th>0</th>\n",
              "      <td>619</td>\n",
              "      <td>1</td>\n",
              "      <td>1</td>\n",
              "      <td>42</td>\n",
              "      <td>2</td>\n",
              "      <td>0.00</td>\n",
              "      <td>1</td>\n",
              "      <td>1</td>\n",
              "      <td>1</td>\n",
              "      <td>101348.88</td>\n",
              "    </tr>\n",
              "    <tr>\n",
              "      <th>1</th>\n",
              "      <td>608</td>\n",
              "      <td>2</td>\n",
              "      <td>1</td>\n",
              "      <td>41</td>\n",
              "      <td>1</td>\n",
              "      <td>83807.86</td>\n",
              "      <td>1</td>\n",
              "      <td>0</td>\n",
              "      <td>1</td>\n",
              "      <td>112542.58</td>\n",
              "    </tr>\n",
              "    <tr>\n",
              "      <th>2</th>\n",
              "      <td>502</td>\n",
              "      <td>1</td>\n",
              "      <td>1</td>\n",
              "      <td>42</td>\n",
              "      <td>8</td>\n",
              "      <td>159660.80</td>\n",
              "      <td>3</td>\n",
              "      <td>1</td>\n",
              "      <td>0</td>\n",
              "      <td>113931.57</td>\n",
              "    </tr>\n",
              "    <tr>\n",
              "      <th>3</th>\n",
              "      <td>699</td>\n",
              "      <td>1</td>\n",
              "      <td>1</td>\n",
              "      <td>39</td>\n",
              "      <td>1</td>\n",
              "      <td>0.00</td>\n",
              "      <td>2</td>\n",
              "      <td>0</td>\n",
              "      <td>0</td>\n",
              "      <td>93826.63</td>\n",
              "    </tr>\n",
              "    <tr>\n",
              "      <th>4</th>\n",
              "      <td>850</td>\n",
              "      <td>2</td>\n",
              "      <td>1</td>\n",
              "      <td>43</td>\n",
              "      <td>2</td>\n",
              "      <td>125510.82</td>\n",
              "      <td>1</td>\n",
              "      <td>1</td>\n",
              "      <td>1</td>\n",
              "      <td>79084.10</td>\n",
              "    </tr>\n",
              "    <tr>\n",
              "      <th>5</th>\n",
              "      <td>645</td>\n",
              "      <td>2</td>\n",
              "      <td>2</td>\n",
              "      <td>44</td>\n",
              "      <td>8</td>\n",
              "      <td>113755.78</td>\n",
              "      <td>2</td>\n",
              "      <td>1</td>\n",
              "      <td>0</td>\n",
              "      <td>149756.71</td>\n",
              "    </tr>\n",
              "    <tr>\n",
              "      <th>6</th>\n",
              "      <td>822</td>\n",
              "      <td>1</td>\n",
              "      <td>2</td>\n",
              "      <td>50</td>\n",
              "      <td>7</td>\n",
              "      <td>0.00</td>\n",
              "      <td>2</td>\n",
              "      <td>1</td>\n",
              "      <td>1</td>\n",
              "      <td>10062.80</td>\n",
              "    </tr>\n",
              "    <tr>\n",
              "      <th>7</th>\n",
              "      <td>376</td>\n",
              "      <td>3</td>\n",
              "      <td>1</td>\n",
              "      <td>29</td>\n",
              "      <td>4</td>\n",
              "      <td>115046.74</td>\n",
              "      <td>4</td>\n",
              "      <td>1</td>\n",
              "      <td>0</td>\n",
              "      <td>119346.88</td>\n",
              "    </tr>\n",
              "    <tr>\n",
              "      <th>8</th>\n",
              "      <td>501</td>\n",
              "      <td>1</td>\n",
              "      <td>2</td>\n",
              "      <td>44</td>\n",
              "      <td>4</td>\n",
              "      <td>142051.07</td>\n",
              "      <td>2</td>\n",
              "      <td>0</td>\n",
              "      <td>1</td>\n",
              "      <td>74940.50</td>\n",
              "    </tr>\n",
              "    <tr>\n",
              "      <th>9</th>\n",
              "      <td>684</td>\n",
              "      <td>1</td>\n",
              "      <td>2</td>\n",
              "      <td>27</td>\n",
              "      <td>2</td>\n",
              "      <td>134603.88</td>\n",
              "      <td>1</td>\n",
              "      <td>1</td>\n",
              "      <td>1</td>\n",
              "      <td>71725.73</td>\n",
              "    </tr>\n",
              "    <tr>\n",
              "      <th>10</th>\n",
              "      <td>528</td>\n",
              "      <td>1</td>\n",
              "      <td>2</td>\n",
              "      <td>31</td>\n",
              "      <td>6</td>\n",
              "      <td>102016.72</td>\n",
              "      <td>2</td>\n",
              "      <td>0</td>\n",
              "      <td>0</td>\n",
              "      <td>80181.12</td>\n",
              "    </tr>\n",
              "    <tr>\n",
              "      <th>11</th>\n",
              "      <td>497</td>\n",
              "      <td>2</td>\n",
              "      <td>2</td>\n",
              "      <td>24</td>\n",
              "      <td>3</td>\n",
              "      <td>0.00</td>\n",
              "      <td>2</td>\n",
              "      <td>1</td>\n",
              "      <td>0</td>\n",
              "      <td>76390.01</td>\n",
              "    </tr>\n",
              "    <tr>\n",
              "      <th>12</th>\n",
              "      <td>476</td>\n",
              "      <td>1</td>\n",
              "      <td>1</td>\n",
              "      <td>34</td>\n",
              "      <td>10</td>\n",
              "      <td>0.00</td>\n",
              "      <td>2</td>\n",
              "      <td>1</td>\n",
              "      <td>0</td>\n",
              "      <td>26260.98</td>\n",
              "    </tr>\n",
              "    <tr>\n",
              "      <th>13</th>\n",
              "      <td>549</td>\n",
              "      <td>1</td>\n",
              "      <td>1</td>\n",
              "      <td>25</td>\n",
              "      <td>5</td>\n",
              "      <td>0.00</td>\n",
              "      <td>2</td>\n",
              "      <td>0</td>\n",
              "      <td>0</td>\n",
              "      <td>190857.79</td>\n",
              "    </tr>\n",
              "    <tr>\n",
              "      <th>14</th>\n",
              "      <td>635</td>\n",
              "      <td>2</td>\n",
              "      <td>1</td>\n",
              "      <td>35</td>\n",
              "      <td>7</td>\n",
              "      <td>0.00</td>\n",
              "      <td>2</td>\n",
              "      <td>1</td>\n",
              "      <td>1</td>\n",
              "      <td>65951.65</td>\n",
              "    </tr>\n",
              "    <tr>\n",
              "      <th>15</th>\n",
              "      <td>616</td>\n",
              "      <td>3</td>\n",
              "      <td>2</td>\n",
              "      <td>45</td>\n",
              "      <td>3</td>\n",
              "      <td>143129.41</td>\n",
              "      <td>2</td>\n",
              "      <td>0</td>\n",
              "      <td>1</td>\n",
              "      <td>64327.26</td>\n",
              "    </tr>\n",
              "    <tr>\n",
              "      <th>16</th>\n",
              "      <td>653</td>\n",
              "      <td>3</td>\n",
              "      <td>2</td>\n",
              "      <td>58</td>\n",
              "      <td>1</td>\n",
              "      <td>132602.88</td>\n",
              "      <td>1</td>\n",
              "      <td>1</td>\n",
              "      <td>0</td>\n",
              "      <td>5097.67</td>\n",
              "    </tr>\n",
              "    <tr>\n",
              "      <th>17</th>\n",
              "      <td>549</td>\n",
              "      <td>2</td>\n",
              "      <td>1</td>\n",
              "      <td>24</td>\n",
              "      <td>9</td>\n",
              "      <td>0.00</td>\n",
              "      <td>2</td>\n",
              "      <td>1</td>\n",
              "      <td>1</td>\n",
              "      <td>14406.41</td>\n",
              "    </tr>\n",
              "    <tr>\n",
              "      <th>18</th>\n",
              "      <td>587</td>\n",
              "      <td>2</td>\n",
              "      <td>2</td>\n",
              "      <td>45</td>\n",
              "      <td>6</td>\n",
              "      <td>0.00</td>\n",
              "      <td>1</td>\n",
              "      <td>0</td>\n",
              "      <td>0</td>\n",
              "      <td>158684.81</td>\n",
              "    </tr>\n",
              "    <tr>\n",
              "      <th>19</th>\n",
              "      <td>726</td>\n",
              "      <td>1</td>\n",
              "      <td>1</td>\n",
              "      <td>24</td>\n",
              "      <td>6</td>\n",
              "      <td>0.00</td>\n",
              "      <td>2</td>\n",
              "      <td>1</td>\n",
              "      <td>1</td>\n",
              "      <td>54724.03</td>\n",
              "    </tr>\n",
              "  </tbody>\n",
              "</table>\n",
              "</div>"
            ],
            "text/plain": [
              "    CreditScore  Geography  Gender  ...  HasCrCard  IsActiveMember  EstimatedSalary\n",
              "0           619          1       1  ...          1               1        101348.88\n",
              "1           608          2       1  ...          0               1        112542.58\n",
              "2           502          1       1  ...          1               0        113931.57\n",
              "3           699          1       1  ...          0               0         93826.63\n",
              "4           850          2       1  ...          1               1         79084.10\n",
              "5           645          2       2  ...          1               0        149756.71\n",
              "6           822          1       2  ...          1               1         10062.80\n",
              "7           376          3       1  ...          1               0        119346.88\n",
              "8           501          1       2  ...          0               1         74940.50\n",
              "9           684          1       2  ...          1               1         71725.73\n",
              "10          528          1       2  ...          0               0         80181.12\n",
              "11          497          2       2  ...          1               0         76390.01\n",
              "12          476          1       1  ...          1               0         26260.98\n",
              "13          549          1       1  ...          0               0        190857.79\n",
              "14          635          2       1  ...          1               1         65951.65\n",
              "15          616          3       2  ...          0               1         64327.26\n",
              "16          653          3       2  ...          1               0          5097.67\n",
              "17          549          2       1  ...          1               1         14406.41\n",
              "18          587          2       2  ...          0               0        158684.81\n",
              "19          726          1       1  ...          1               1         54724.03\n",
              "\n",
              "[20 rows x 10 columns]"
            ]
          },
          "metadata": {
            "tags": []
          },
          "execution_count": 12
        }
      ]
    },
    {
      "cell_type": "code",
      "metadata": {
        "id": "Xwz4rtjRzC1K",
        "colab_type": "code",
        "colab": {}
      },
      "source": [
        "X=X.values\n",
        "y=y.values"
      ],
      "execution_count": 13,
      "outputs": []
    },
    {
      "cell_type": "code",
      "metadata": {
        "id": "TgjH6l5Xm5bP",
        "colab_type": "code",
        "colab": {}
      },
      "source": [
        "# Splitting the dataset into the Training set and Test set\n",
        "from sklearn.model_selection import train_test_split\n",
        "X_train, X_test, y_train, y_test = train_test_split(X, y, test_size = 0.2, random_state = 0)\n",
        "\n",
        "# Feature Scaling\n",
        "from sklearn.preprocessing import StandardScaler\n",
        "sc = StandardScaler()\n",
        "X_train = sc.fit_transform(X_train)\n",
        "X_test = sc.transform(X_test)"
      ],
      "execution_count": 14,
      "outputs": []
    },
    {
      "cell_type": "markdown",
      "metadata": {
        "id": "_eiFFXXpm5bY",
        "colab_type": "text"
      },
      "source": [
        "## ANN Model"
      ]
    },
    {
      "cell_type": "code",
      "metadata": {
        "id": "dBFLLuXbm5bZ",
        "colab_type": "code",
        "colab": {}
      },
      "source": [
        "# Importing the Keras libraries and packages\n",
        "import keras\n",
        "from keras.models import Sequential\n",
        "from keras.layers import Dense\n",
        "from keras.layers import LeakyReLU,PReLU,ELU\n",
        "from keras.layers import Dropout#regularization parameter to avoid overfitting for Deep Neural Network"
      ],
      "execution_count": 15,
      "outputs": []
    },
    {
      "cell_type": "code",
      "metadata": {
        "id": "LF6DYWGUm5bc",
        "colab_type": "code",
        "colab": {}
      },
      "source": [
        "# Initialising the ANN\n",
        "classifier = Sequential()#empty neural network initialized"
      ],
      "execution_count": 16,
      "outputs": []
    },
    {
      "cell_type": "code",
      "metadata": {
        "id": "cSjphJETm5bl",
        "colab_type": "code",
        "colab": {}
      },
      "source": [
        "# Adding the input layer and the first hidden layer\n",
        "classifier.add(Dense(units = 6, kernel_initializer = 'he_uniform',activation='relu',input_dim = 10))\n",
        "#input_dim is the input features based on the number of columns, units=6 is the number of hidden neurons in hidden layer 1"
      ],
      "execution_count": 17,
      "outputs": []
    },
    {
      "cell_type": "code",
      "metadata": {
        "id": "oemz4Gnnm5bp",
        "colab_type": "code",
        "colab": {}
      },
      "source": [
        "# Adding the second hidden layer\n",
        "classifier.add(Dense(units = 6, kernel_initializer = 'he_uniform',activation='relu'))\n",
        "#relu and leaky relu prevent vanishing gradient problem"
      ],
      "execution_count": 18,
      "outputs": []
    },
    {
      "cell_type": "code",
      "metadata": {
        "id": "MDJ8Z_91m5bt",
        "colab_type": "code",
        "colab": {}
      },
      "source": [
        "# Adding the output layer\n",
        "classifier.add(Dense(units = 1, kernel_initializer = 'glorot_uniform', activation = 'sigmoid'))"
      ],
      "execution_count": 19,
      "outputs": []
    },
    {
      "cell_type": "code",
      "metadata": {
        "id": "Vk5q8qQ5m5bx",
        "colab_type": "code",
        "colab": {}
      },
      "source": [
        "# Compiling the ANN\n",
        "classifier.compile(optimizer = 'adam', loss = 'binary_crossentropy', metrics = ['accuracy'])\n",
        "#binary_crossentropy for binary output, optimizer='adam' is the most popular one"
      ],
      "execution_count": 20,
      "outputs": []
    },
    {
      "cell_type": "code",
      "metadata": {
        "id": "t3WRQtKem5b1",
        "colab_type": "code",
        "colab": {
          "base_uri": "https://localhost:8080/",
          "height": 1000
        },
        "outputId": "0acf7066-1b8c-4e3b-8029-57d7f6877f86"
      },
      "source": [
        "# Fitting the ANN to the Training set\n",
        "ann=classifier.fit(X_train, y_train,validation_split=0.33, batch_size = 10, epochs=100)"
      ],
      "execution_count": 21,
      "outputs": [
        {
          "output_type": "stream",
          "text": [
            "Epoch 1/100\n",
            "536/536 [==============================] - 2s 4ms/step - loss: 0.5255 - accuracy: 0.7936 - val_loss: 0.4995 - val_accuracy: 0.7959\n",
            "Epoch 2/100\n",
            "536/536 [==============================] - 2s 4ms/step - loss: 0.4716 - accuracy: 0.7988 - val_loss: 0.4684 - val_accuracy: 0.7997\n",
            "Epoch 3/100\n",
            "536/536 [==============================] - 2s 4ms/step - loss: 0.4464 - accuracy: 0.8035 - val_loss: 0.4534 - val_accuracy: 0.8061\n",
            "Epoch 4/100\n",
            "536/536 [==============================] - 2s 4ms/step - loss: 0.4338 - accuracy: 0.8074 - val_loss: 0.4443 - val_accuracy: 0.8050\n",
            "Epoch 5/100\n",
            "536/536 [==============================] - 2s 4ms/step - loss: 0.4258 - accuracy: 0.8112 - val_loss: 0.4395 - val_accuracy: 0.8088\n",
            "Epoch 6/100\n",
            "536/536 [==============================] - 2s 4ms/step - loss: 0.4206 - accuracy: 0.8151 - val_loss: 0.4351 - val_accuracy: 0.8099\n",
            "Epoch 7/100\n",
            "536/536 [==============================] - 2s 4ms/step - loss: 0.4161 - accuracy: 0.8177 - val_loss: 0.4297 - val_accuracy: 0.8092\n",
            "Epoch 8/100\n",
            "536/536 [==============================] - 2s 4ms/step - loss: 0.4119 - accuracy: 0.8205 - val_loss: 0.4265 - val_accuracy: 0.8088\n",
            "Epoch 9/100\n",
            "536/536 [==============================] - 2s 4ms/step - loss: 0.4073 - accuracy: 0.8203 - val_loss: 0.4225 - val_accuracy: 0.8126\n",
            "Epoch 10/100\n",
            "536/536 [==============================] - 2s 4ms/step - loss: 0.4035 - accuracy: 0.8214 - val_loss: 0.4177 - val_accuracy: 0.8175\n",
            "Epoch 11/100\n",
            "536/536 [==============================] - 2s 4ms/step - loss: 0.3994 - accuracy: 0.8225 - val_loss: 0.4144 - val_accuracy: 0.8190\n",
            "Epoch 12/100\n",
            "536/536 [==============================] - 2s 4ms/step - loss: 0.3955 - accuracy: 0.8242 - val_loss: 0.4108 - val_accuracy: 0.8194\n",
            "Epoch 13/100\n",
            "536/536 [==============================] - 2s 4ms/step - loss: 0.3912 - accuracy: 0.8259 - val_loss: 0.4074 - val_accuracy: 0.8194\n",
            "Epoch 14/100\n",
            "536/536 [==============================] - 2s 4ms/step - loss: 0.3882 - accuracy: 0.8259 - val_loss: 0.4032 - val_accuracy: 0.8190\n",
            "Epoch 15/100\n",
            "536/536 [==============================] - 2s 4ms/step - loss: 0.3850 - accuracy: 0.8289 - val_loss: 0.3986 - val_accuracy: 0.8220\n",
            "Epoch 16/100\n",
            "536/536 [==============================] - 2s 4ms/step - loss: 0.3812 - accuracy: 0.8302 - val_loss: 0.3962 - val_accuracy: 0.8330\n",
            "Epoch 17/100\n",
            "536/536 [==============================] - 2s 4ms/step - loss: 0.3779 - accuracy: 0.8410 - val_loss: 0.3925 - val_accuracy: 0.8353\n",
            "Epoch 18/100\n",
            "536/536 [==============================] - 2s 4ms/step - loss: 0.3746 - accuracy: 0.8423 - val_loss: 0.3900 - val_accuracy: 0.8360\n",
            "Epoch 19/100\n",
            "536/536 [==============================] - 2s 4ms/step - loss: 0.3724 - accuracy: 0.8459 - val_loss: 0.3876 - val_accuracy: 0.8368\n",
            "Epoch 20/100\n",
            "536/536 [==============================] - 2s 4ms/step - loss: 0.3697 - accuracy: 0.8457 - val_loss: 0.3867 - val_accuracy: 0.8402\n",
            "Epoch 21/100\n",
            "536/536 [==============================] - 2s 4ms/step - loss: 0.3676 - accuracy: 0.8485 - val_loss: 0.3840 - val_accuracy: 0.8379\n",
            "Epoch 22/100\n",
            "536/536 [==============================] - 2s 4ms/step - loss: 0.3659 - accuracy: 0.8468 - val_loss: 0.3814 - val_accuracy: 0.8379\n",
            "Epoch 23/100\n",
            "536/536 [==============================] - 2s 4ms/step - loss: 0.3639 - accuracy: 0.8468 - val_loss: 0.3808 - val_accuracy: 0.8391\n",
            "Epoch 24/100\n",
            "536/536 [==============================] - 2s 4ms/step - loss: 0.3622 - accuracy: 0.8461 - val_loss: 0.3803 - val_accuracy: 0.8406\n",
            "Epoch 25/100\n",
            "536/536 [==============================] - 2s 4ms/step - loss: 0.3608 - accuracy: 0.8496 - val_loss: 0.3780 - val_accuracy: 0.8391\n",
            "Epoch 26/100\n",
            "536/536 [==============================] - 2s 4ms/step - loss: 0.3594 - accuracy: 0.8524 - val_loss: 0.3754 - val_accuracy: 0.8432\n",
            "Epoch 27/100\n",
            "536/536 [==============================] - 2s 4ms/step - loss: 0.3569 - accuracy: 0.8515 - val_loss: 0.3754 - val_accuracy: 0.8459\n",
            "Epoch 28/100\n",
            "536/536 [==============================] - 2s 4ms/step - loss: 0.3558 - accuracy: 0.8517 - val_loss: 0.3760 - val_accuracy: 0.8395\n",
            "Epoch 29/100\n",
            "536/536 [==============================] - 2s 4ms/step - loss: 0.3547 - accuracy: 0.8524 - val_loss: 0.3725 - val_accuracy: 0.8459\n",
            "Epoch 30/100\n",
            "536/536 [==============================] - 2s 4ms/step - loss: 0.3526 - accuracy: 0.8543 - val_loss: 0.3768 - val_accuracy: 0.8455\n",
            "Epoch 31/100\n",
            "536/536 [==============================] - 2s 4ms/step - loss: 0.3521 - accuracy: 0.8545 - val_loss: 0.3714 - val_accuracy: 0.8455\n",
            "Epoch 32/100\n",
            "536/536 [==============================] - 2s 5ms/step - loss: 0.3503 - accuracy: 0.8550 - val_loss: 0.3708 - val_accuracy: 0.8432\n",
            "Epoch 33/100\n",
            "536/536 [==============================] - 2s 4ms/step - loss: 0.3490 - accuracy: 0.8556 - val_loss: 0.3680 - val_accuracy: 0.8459\n",
            "Epoch 34/100\n",
            "536/536 [==============================] - 2s 4ms/step - loss: 0.3469 - accuracy: 0.8561 - val_loss: 0.3686 - val_accuracy: 0.8459\n",
            "Epoch 35/100\n",
            "536/536 [==============================] - 2s 4ms/step - loss: 0.3459 - accuracy: 0.8591 - val_loss: 0.3672 - val_accuracy: 0.8451\n",
            "Epoch 36/100\n",
            "536/536 [==============================] - 2s 4ms/step - loss: 0.3444 - accuracy: 0.8578 - val_loss: 0.3699 - val_accuracy: 0.8436\n",
            "Epoch 37/100\n",
            "536/536 [==============================] - 2s 4ms/step - loss: 0.3443 - accuracy: 0.8593 - val_loss: 0.3664 - val_accuracy: 0.8482\n",
            "Epoch 38/100\n",
            "536/536 [==============================] - 2s 4ms/step - loss: 0.3426 - accuracy: 0.8600 - val_loss: 0.3658 - val_accuracy: 0.8504\n",
            "Epoch 39/100\n",
            "536/536 [==============================] - 2s 4ms/step - loss: 0.3427 - accuracy: 0.8586 - val_loss: 0.3641 - val_accuracy: 0.8508\n",
            "Epoch 40/100\n",
            "536/536 [==============================] - 2s 4ms/step - loss: 0.3413 - accuracy: 0.8612 - val_loss: 0.3626 - val_accuracy: 0.8493\n",
            "Epoch 41/100\n",
            "536/536 [==============================] - 2s 4ms/step - loss: 0.3395 - accuracy: 0.8589 - val_loss: 0.3684 - val_accuracy: 0.8451\n",
            "Epoch 42/100\n",
            "536/536 [==============================] - 2s 4ms/step - loss: 0.3391 - accuracy: 0.8599 - val_loss: 0.3669 - val_accuracy: 0.8466\n",
            "Epoch 43/100\n",
            "536/536 [==============================] - 2s 4ms/step - loss: 0.3383 - accuracy: 0.8597 - val_loss: 0.3619 - val_accuracy: 0.8482\n",
            "Epoch 44/100\n",
            "536/536 [==============================] - 2s 4ms/step - loss: 0.3384 - accuracy: 0.8647 - val_loss: 0.3624 - val_accuracy: 0.8474\n",
            "Epoch 45/100\n",
            "536/536 [==============================] - 2s 4ms/step - loss: 0.3380 - accuracy: 0.8604 - val_loss: 0.3603 - val_accuracy: 0.8519\n",
            "Epoch 46/100\n",
            "536/536 [==============================] - 2s 4ms/step - loss: 0.3368 - accuracy: 0.8619 - val_loss: 0.3602 - val_accuracy: 0.8538\n",
            "Epoch 47/100\n",
            "536/536 [==============================] - 2s 4ms/step - loss: 0.3374 - accuracy: 0.8628 - val_loss: 0.3590 - val_accuracy: 0.8485\n",
            "Epoch 48/100\n",
            "536/536 [==============================] - 2s 4ms/step - loss: 0.3363 - accuracy: 0.8636 - val_loss: 0.3607 - val_accuracy: 0.8527\n",
            "Epoch 49/100\n",
            "536/536 [==============================] - 2s 4ms/step - loss: 0.3357 - accuracy: 0.8617 - val_loss: 0.3586 - val_accuracy: 0.8542\n",
            "Epoch 50/100\n",
            "536/536 [==============================] - 2s 4ms/step - loss: 0.3356 - accuracy: 0.8612 - val_loss: 0.3589 - val_accuracy: 0.8523\n",
            "Epoch 51/100\n",
            "536/536 [==============================] - 2s 4ms/step - loss: 0.3351 - accuracy: 0.8621 - val_loss: 0.3605 - val_accuracy: 0.8493\n",
            "Epoch 52/100\n",
            "536/536 [==============================] - 2s 4ms/step - loss: 0.3345 - accuracy: 0.8640 - val_loss: 0.3609 - val_accuracy: 0.8550\n",
            "Epoch 53/100\n",
            "536/536 [==============================] - 2s 4ms/step - loss: 0.3345 - accuracy: 0.8621 - val_loss: 0.3598 - val_accuracy: 0.8546\n",
            "Epoch 54/100\n",
            "536/536 [==============================] - 2s 4ms/step - loss: 0.3335 - accuracy: 0.8640 - val_loss: 0.3589 - val_accuracy: 0.8538\n",
            "Epoch 55/100\n",
            "536/536 [==============================] - 2s 5ms/step - loss: 0.3323 - accuracy: 0.8636 - val_loss: 0.3609 - val_accuracy: 0.8557\n",
            "Epoch 56/100\n",
            "536/536 [==============================] - 2s 4ms/step - loss: 0.3333 - accuracy: 0.8625 - val_loss: 0.3589 - val_accuracy: 0.8527\n",
            "Epoch 57/100\n",
            "536/536 [==============================] - 2s 4ms/step - loss: 0.3330 - accuracy: 0.8640 - val_loss: 0.3613 - val_accuracy: 0.8474\n",
            "Epoch 58/100\n",
            "536/536 [==============================] - 2s 4ms/step - loss: 0.3323 - accuracy: 0.8647 - val_loss: 0.3600 - val_accuracy: 0.8485\n",
            "Epoch 59/100\n",
            "536/536 [==============================] - 2s 4ms/step - loss: 0.3321 - accuracy: 0.8627 - val_loss: 0.3580 - val_accuracy: 0.8512\n",
            "Epoch 60/100\n",
            "536/536 [==============================] - 2s 4ms/step - loss: 0.3322 - accuracy: 0.8630 - val_loss: 0.3582 - val_accuracy: 0.8546\n",
            "Epoch 61/100\n",
            "536/536 [==============================] - 2s 4ms/step - loss: 0.3326 - accuracy: 0.8619 - val_loss: 0.3588 - val_accuracy: 0.8478\n",
            "Epoch 62/100\n",
            "536/536 [==============================] - 2s 4ms/step - loss: 0.3312 - accuracy: 0.8653 - val_loss: 0.3591 - val_accuracy: 0.8504\n",
            "Epoch 63/100\n",
            "536/536 [==============================] - 2s 4ms/step - loss: 0.3319 - accuracy: 0.8634 - val_loss: 0.3585 - val_accuracy: 0.8516\n",
            "Epoch 64/100\n",
            "536/536 [==============================] - 2s 4ms/step - loss: 0.3308 - accuracy: 0.8636 - val_loss: 0.3612 - val_accuracy: 0.8466\n",
            "Epoch 65/100\n",
            "536/536 [==============================] - 2s 4ms/step - loss: 0.3315 - accuracy: 0.8651 - val_loss: 0.3588 - val_accuracy: 0.8493\n",
            "Epoch 66/100\n",
            "536/536 [==============================] - 2s 4ms/step - loss: 0.3306 - accuracy: 0.8628 - val_loss: 0.3628 - val_accuracy: 0.8489\n",
            "Epoch 67/100\n",
            "536/536 [==============================] - 2s 4ms/step - loss: 0.3310 - accuracy: 0.8621 - val_loss: 0.3605 - val_accuracy: 0.8459\n",
            "Epoch 68/100\n",
            "536/536 [==============================] - 2s 5ms/step - loss: 0.3304 - accuracy: 0.8615 - val_loss: 0.3617 - val_accuracy: 0.8523\n",
            "Epoch 69/100\n",
            "536/536 [==============================] - 3s 5ms/step - loss: 0.3304 - accuracy: 0.8638 - val_loss: 0.3613 - val_accuracy: 0.8482\n",
            "Epoch 70/100\n",
            "536/536 [==============================] - 2s 5ms/step - loss: 0.3311 - accuracy: 0.8632 - val_loss: 0.3596 - val_accuracy: 0.8466\n",
            "Epoch 71/100\n",
            "536/536 [==============================] - 2s 4ms/step - loss: 0.3297 - accuracy: 0.8658 - val_loss: 0.3592 - val_accuracy: 0.8508\n",
            "Epoch 72/100\n",
            "536/536 [==============================] - 2s 4ms/step - loss: 0.3303 - accuracy: 0.8634 - val_loss: 0.3593 - val_accuracy: 0.8523\n",
            "Epoch 73/100\n",
            "536/536 [==============================] - 2s 4ms/step - loss: 0.3302 - accuracy: 0.8640 - val_loss: 0.3609 - val_accuracy: 0.8493\n",
            "Epoch 74/100\n",
            "536/536 [==============================] - 2s 4ms/step - loss: 0.3289 - accuracy: 0.8630 - val_loss: 0.3590 - val_accuracy: 0.8482\n",
            "Epoch 75/100\n",
            "536/536 [==============================] - 2s 4ms/step - loss: 0.3298 - accuracy: 0.8625 - val_loss: 0.3578 - val_accuracy: 0.8504\n",
            "Epoch 76/100\n",
            "536/536 [==============================] - 2s 4ms/step - loss: 0.3288 - accuracy: 0.8632 - val_loss: 0.3627 - val_accuracy: 0.8451\n",
            "Epoch 77/100\n",
            "536/536 [==============================] - 2s 4ms/step - loss: 0.3300 - accuracy: 0.8642 - val_loss: 0.3619 - val_accuracy: 0.8497\n",
            "Epoch 78/100\n",
            "536/536 [==============================] - 2s 4ms/step - loss: 0.3294 - accuracy: 0.8612 - val_loss: 0.3576 - val_accuracy: 0.8535\n",
            "Epoch 79/100\n",
            "536/536 [==============================] - 2s 4ms/step - loss: 0.3294 - accuracy: 0.8627 - val_loss: 0.3596 - val_accuracy: 0.8512\n",
            "Epoch 80/100\n",
            "536/536 [==============================] - 2s 4ms/step - loss: 0.3292 - accuracy: 0.8643 - val_loss: 0.3582 - val_accuracy: 0.8504\n",
            "Epoch 81/100\n",
            "536/536 [==============================] - 2s 4ms/step - loss: 0.3297 - accuracy: 0.8625 - val_loss: 0.3584 - val_accuracy: 0.8504\n",
            "Epoch 82/100\n",
            "536/536 [==============================] - 2s 4ms/step - loss: 0.3294 - accuracy: 0.8615 - val_loss: 0.3577 - val_accuracy: 0.8531\n",
            "Epoch 83/100\n",
            "536/536 [==============================] - 2s 4ms/step - loss: 0.3295 - accuracy: 0.8617 - val_loss: 0.3587 - val_accuracy: 0.8527\n",
            "Epoch 84/100\n",
            "536/536 [==============================] - 2s 5ms/step - loss: 0.3282 - accuracy: 0.8630 - val_loss: 0.3604 - val_accuracy: 0.8489\n",
            "Epoch 85/100\n",
            "536/536 [==============================] - 2s 4ms/step - loss: 0.3287 - accuracy: 0.8623 - val_loss: 0.3592 - val_accuracy: 0.8497\n",
            "Epoch 86/100\n",
            "536/536 [==============================] - 2s 4ms/step - loss: 0.3292 - accuracy: 0.8627 - val_loss: 0.3579 - val_accuracy: 0.8508\n",
            "Epoch 87/100\n",
            "536/536 [==============================] - 2s 4ms/step - loss: 0.3284 - accuracy: 0.8628 - val_loss: 0.3588 - val_accuracy: 0.8501\n",
            "Epoch 88/100\n",
            "536/536 [==============================] - 2s 4ms/step - loss: 0.3289 - accuracy: 0.8642 - val_loss: 0.3585 - val_accuracy: 0.8504\n",
            "Epoch 89/100\n",
            "536/536 [==============================] - 2s 4ms/step - loss: 0.3295 - accuracy: 0.8630 - val_loss: 0.3586 - val_accuracy: 0.8497\n",
            "Epoch 90/100\n",
            "536/536 [==============================] - 3s 5ms/step - loss: 0.3287 - accuracy: 0.8643 - val_loss: 0.3571 - val_accuracy: 0.8501\n",
            "Epoch 91/100\n",
            "536/536 [==============================] - 3s 5ms/step - loss: 0.3279 - accuracy: 0.8634 - val_loss: 0.3620 - val_accuracy: 0.8485\n",
            "Epoch 92/100\n",
            "536/536 [==============================] - 3s 5ms/step - loss: 0.3278 - accuracy: 0.8610 - val_loss: 0.3610 - val_accuracy: 0.8535\n",
            "Epoch 93/100\n",
            "536/536 [==============================] - 3s 5ms/step - loss: 0.3288 - accuracy: 0.8600 - val_loss: 0.3594 - val_accuracy: 0.8516\n",
            "Epoch 94/100\n",
            "536/536 [==============================] - 2s 4ms/step - loss: 0.3284 - accuracy: 0.8617 - val_loss: 0.3611 - val_accuracy: 0.8508\n",
            "Epoch 95/100\n",
            "536/536 [==============================] - 2s 4ms/step - loss: 0.3285 - accuracy: 0.8640 - val_loss: 0.3616 - val_accuracy: 0.8508\n",
            "Epoch 96/100\n",
            "536/536 [==============================] - 2s 4ms/step - loss: 0.3276 - accuracy: 0.8640 - val_loss: 0.3598 - val_accuracy: 0.8508\n",
            "Epoch 97/100\n",
            "536/536 [==============================] - 2s 4ms/step - loss: 0.3288 - accuracy: 0.8640 - val_loss: 0.3598 - val_accuracy: 0.8489\n",
            "Epoch 98/100\n",
            "536/536 [==============================] - 2s 4ms/step - loss: 0.3283 - accuracy: 0.8623 - val_loss: 0.3612 - val_accuracy: 0.8508\n",
            "Epoch 99/100\n",
            "536/536 [==============================] - 2s 4ms/step - loss: 0.3274 - accuracy: 0.8636 - val_loss: 0.3600 - val_accuracy: 0.8501\n",
            "Epoch 100/100\n",
            "536/536 [==============================] - 2s 4ms/step - loss: 0.3283 - accuracy: 0.8642 - val_loss: 0.3582 - val_accuracy: 0.8523\n"
          ],
          "name": "stdout"
        }
      ]
    },
    {
      "cell_type": "markdown",
      "metadata": {
        "id": "r-_SqDFCo2sL",
        "colab_type": "text"
      },
      "source": [
        "So, training accuracy was 0.8642 and my validation accuracy was 0.8523"
      ]
    },
    {
      "cell_type": "code",
      "metadata": {
        "id": "Rufp4Bb1p97J",
        "colab_type": "code",
        "colab": {
          "base_uri": "https://localhost:8080/",
          "height": 513
        },
        "outputId": "60afb74e-1b20-410f-8cef-36c373ffbf26"
      },
      "source": [
        "# Plot the Loss Function\n",
        "plt.plot(ann.history['loss'], label='train loss')\n",
        "plt.plot(ann.history['val_loss'], label='val loss')\n",
        "plt.legend()\n",
        "plt.show()\n",
        "\n",
        "# Plot the Accuracy\n",
        "plt.plot(ann.history['accuracy'], label='train acc')\n",
        "plt.plot(ann.history['val_accuracy'], label='val acc')\n",
        "plt.legend()\n",
        "plt.show()"
      ],
      "execution_count": 22,
      "outputs": [
        {
          "output_type": "display_data",
          "data": {
            "image/png": "[encoded data removed]",
            "text/plain": [
              "<Figure size 432x288 with 1 Axes>"
            ]
          },
          "metadata": {
            "tags": [],
            "needs_background": "light"
          }
        },
        {
          "output_type": "display_data",
          "data": {
            "image/png": "[encoded data removed]",
            "text/plain": [
              "<Figure size 432x288 with 1 Axes>"
            ]
          },
          "metadata": {
            "tags": [],
            "needs_background": "light"
          }
        }
      ]
    },
    {
      "cell_type": "markdown",
      "metadata": {
        "id": "dOcT-XS6oqqM",
        "colab_type": "text"
      },
      "source": [
        "# Predicting the test set result and model evaluation"
      ]
    },
    {
      "cell_type": "code",
      "metadata": {
        "id": "-mC9QryByJpt",
        "colab_type": "code",
        "colab": {
          "base_uri": "https://localhost:8080/",
          "height": 136
        },
        "outputId": "b6e22fdb-76fb-4096-8760-92de62d3fb14"
      },
      "source": [
        "# Predicting the Test set results\n",
        "y_pred = classifier.predict(X_test)\n",
        "y_pred = (y_pred > 0.5)\n",
        "print(np.concatenate((y_pred.reshape(len(y_pred),1), y_test.reshape(len(y_test),1)),1))"
      ],
      "execution_count": 23,
      "outputs": [
        {
          "output_type": "stream",
          "text": [
            "[[0 0]\n",
            " [0 1]\n",
            " [0 0]\n",
            " ...\n",
            " [0 0]\n",
            " [0 0]\n",
            " [0 0]]\n"
          ],
          "name": "stdout"
        }
      ]
    },
    {
      "cell_type": "code",
      "metadata": {
        "id": "yVk3Eo2ym5b5",
        "colab_type": "code",
        "colab": {
          "base_uri": "https://localhost:8080/",
          "height": 68
        },
        "outputId": "5e20846b-a1cf-48f4-f71b-25cb32744996"
      },
      "source": [
        "# Making the Confusion Matrix\n",
        "from sklearn.metrics import confusion_matrix\n",
        "cm = confusion_matrix(y_test, y_pred)\n",
        "print('The Confusion Matrix is', cm)\n",
        "\n",
        "# Calculate the Accuracy\n",
        "from sklearn.metrics import accuracy_score\n",
        "score=accuracy_score(y_pred,y_test)\n",
        "print('The accuracy_score is', score)"
      ],
      "execution_count": 24,
      "outputs": [
        {
          "output_type": "stream",
          "text": [
            "The Confusion Matrix is [[1526   69]\n",
            " [ 206  199]]\n",
            "The accuracy_score is 0.8625\n"
          ],
          "name": "stdout"
        }
      ]
    },
    {
      "cell_type": "markdown",
      "metadata": {
        "id": "DQZ_x08opw10",
        "colab_type": "text"
      },
      "source": [
        "Training Accuracy, Validation Accuracy and Test Dataset Accuracy are almost same."
      ]
    }
  ]
}